{
 "cells": [
  {
   "cell_type": "markdown",
   "metadata": {},
   "source": [
    "### Accuracy Measures"
   ]
  },
  {
   "cell_type": "code",
   "execution_count": 1,
   "metadata": {},
   "outputs": [],
   "source": [
    "\n",
    "import numpy as np\n",
    "from sklearn.linear_model import LogisticRegression\n",
    "from sklearn.naive_bayes import GaussianNB\n",
    "from sklearn.neighbors import KNeighborsClassifier \n",
    "from sklearn.svm import SVC\n",
    "from sklearn.tree import DecisionTreeClassifier\n",
    "from sklearn.ensemble import RandomForestClassifier \n",
    "from sklearn.linear_model import LinearRegression\n",
    "from sklearn.preprocessing import PolynomialFeatures \n",
    "from sklearn.linear_model import Ridge\n",
    "from sklearn.linear_model import Lasso\n",
    "from sklearn.neighbors import KNeighborsRegressor \n",
    "from sklearn.svm import SVR\n",
    "from copy import deepcopy"
   ]
  },
  {
   "cell_type": "code",
   "execution_count": 11,
   "metadata": {},
   "outputs": [],
   "source": [
    "# data to work with (T = target labels, y = prob. output of classifier, pred = closest class predictions)\n",
    "T = np.array([0,0,0,0,0,0,0,0,0,0,0,0,0,0,0,0,0,0,0,0,0,0,0,0,0,0,0,0,0,0,1,1,1,1,1,1,1,1,1,1,1,1,1,1,1,1,1,1,1,1])\n",
    "y = np.array([0.01,0.05,0.1,0.0,0.9,0.01,1.0,0.95,0.6,0.2,0.1,0.1,0.15,0.25,0.1,0.05,0.99,0.1,0.2,0.05,0.01,0.01,0.05,0.05,1.0,0.25,0.25,0.2,0.1,1.0,0.9,0.1,1.0,0.85,0.4,0.4,0.9,0.85,0.95,1.0,0.99,.75,0.45,1.0,0.45,0.4,0.9,0.85,1.0,0.9])\n",
    "Y = np.round(y, 0)"
   ]
  },
  {
   "cell_type": "code",
   "execution_count": 13,
   "metadata": {},
   "outputs": [
    {
     "name": "stdout",
     "output_type": "stream",
     "text": [
      "\n",
      "\n",
      "Confusion matrix:\n",
      " [[23  7]\n",
      " [ 6 14]]\n",
      "\n",
      "TP, TN, FP, FN: 14 , 23 , 7 , 6\n",
      "\n",
      "Accuracy rate: 0.74\n",
      "\n",
      "Error rate: 0.26\n",
      "\n",
      "Precision: 0.67\n",
      "\n",
      "Recall: 0.7\n",
      "\n",
      "F1 score: 0.68\n"
     ]
    }
   ],
   "source": [
    "from sklearn.metrics import *\n",
    "# Confusion Matrix\n",
    "CM = confusion_matrix(T, Y)\n",
    "print (\"\\n\\nConfusion matrix:\\n\", CM)\n",
    "tn, fp, fn, tp = CM.ravel()\n",
    "print (\"\\nTP, TN, FP, FN:\", tp, \",\", tn, \",\", fp, \",\", fn)\n",
    "AR = accuracy_score(T, Y)\n",
    "print (\"\\nAccuracy rate:\", AR)\n",
    "ER = 1.0 - AR\n",
    "print (\"\\nError rate:\", ER)\n",
    "P = precision_score(T, Y)\n",
    "print (\"\\nPrecision:\", np.round(P, 2))\n",
    "R = recall_score(T, Y)\n",
    "print (\"\\nRecall:\", np.round(R, 2))\n",
    "F1 = f1_score(T, Y)\n",
    "print (\"\\nF1 score:\", np.round(F1, 2))\n",
    "####################"
   ]
  },
  {
   "cell_type": "code",
   "execution_count": 14,
   "metadata": {},
   "outputs": [],
   "source": [
    "# ROC analysis\n",
    "LW = 1.5 # line width for plots\n",
    "LL = \"lower right\" # legend location\n",
    "LC = 'darkgreen' # Line Color"
   ]
  },
  {
   "cell_type": "code",
   "execution_count": 15,
   "metadata": {},
   "outputs": [
    {
     "name": "stdout",
     "output_type": "stream",
     "text": [
      "\n",
      "TP rates: [0.   0.2  0.3  0.5  0.65 0.7  0.7  0.8  0.95 0.95 0.95 1.   1.   1.\n",
      " 1.  ]\n",
      "\n",
      "FP rates: [0.   0.1  0.17 0.2  0.2  0.2  0.23 0.23 0.23 0.43 0.47 0.67 0.83 0.97\n",
      " 1.  ]\n",
      "\n",
      "Probability thresholds: [2.   1.   0.95 0.9  0.85 0.75 0.6  0.45 0.4  0.2  0.15 0.1  0.05 0.01\n",
      " 0.  ]\n"
     ]
    }
   ],
   "source": [
    "fpr, tpr, th = roc_curve(T, y) # False Positive Rate, True Posisive Rate, probability thresholds\n",
    "AUC = auc(fpr, tpr)\n",
    "print (\"\\nTP rates:\", np.round(tpr, 2))\n",
    "print (\"\\nFP rates:\", np.round(fpr, 2))\n",
    "print (\"\\nProbability thresholds:\", np.round(th, 2))"
   ]
  },
  {
   "cell_type": "code",
   "execution_count": 17,
   "metadata": {},
   "outputs": [
    {
     "data": {
      "image/png": "[encoded data removed]",
      "text/plain": [
       "<Figure size 432x288 with 1 Axes>"
      ]
     },
     "metadata": {
      "needs_background": "light"
     },
     "output_type": "display_data"
    }
   ],
   "source": [
    "import matplotlib.pyplot as plt\n",
    "plt.figure()\n",
    "plt.title('Receiver Operating Characteristic curve example')\n",
    "plt.xlim([0.0, 1.0])\n",
    "plt.ylim([0.0, 1.05])\n",
    "plt.xlabel('FALSE Positive Rate')\n",
    "plt.ylabel('TRUE Positive Rate')\n",
    "plt.plot(fpr, tpr, color=LC,lw=LW, label='ROC curve (area = %0.2f)' % AUC)\n",
    "plt.plot([0, 1], [0, 1], color='navy', lw=LW, linestyle='--') # reference line for random classifier\n",
    "plt.legend(loc=LL)\n",
    "plt.show()"
   ]
  },
  {
   "cell_type": "code",
   "execution_count": 18,
   "metadata": {},
   "outputs": [
    {
     "name": "stdout",
     "output_type": "stream",
     "text": [
      "\n",
      "AUC score (using auc function): 0.81\n",
      "\n",
      "AUC score (using roc_auc_score function): 0.81 \n",
      "\n"
     ]
    }
   ],
   "source": [
    "print (\"\\nAUC score (using auc function):\", np.round(AUC, 2))\n",
    "print (\"\\nAUC score (using roc_auc_score function):\", np.round(roc_auc_score(T, y), 2), \"\\n\")\n"
   ]
  },
  {
   "cell_type": "markdown",
   "metadata": {},
   "source": [
    "### Classification Accuracy"
   ]
  },
  {
   "cell_type": "code",
   "execution_count": 21,
   "metadata": {},
   "outputs": [
    {
     "data": {
      "text/html": [
       "<div>\n",
       "<style scoped>\n",
       "    .dataframe tbody tr th:only-of-type {\n",
       "        vertical-align: middle;\n",
       "    }\n",
       "\n",
       "    .dataframe tbody tr th {\n",
       "        vertical-align: top;\n",
       "    }\n",
       "\n",
       "    .dataframe thead th {\n",
       "        text-align: right;\n",
       "    }\n",
       "</style>\n",
       "<table border=\"1\" class=\"dataframe\">\n",
       "  <thead>\n",
       "    <tr style=\"text-align: right;\">\n",
       "      <th></th>\n",
       "      <th>BI-RADS</th>\n",
       "      <th>Age</th>\n",
       "      <th>Shape</th>\n",
       "      <th>Margin</th>\n",
       "      <th>Density</th>\n",
       "      <th>Severity</th>\n",
       "    </tr>\n",
       "  </thead>\n",
       "  <tbody>\n",
       "    <tr>\n",
       "      <th>0</th>\n",
       "      <td>5</td>\n",
       "      <td>67</td>\n",
       "      <td>3</td>\n",
       "      <td>5</td>\n",
       "      <td>3</td>\n",
       "      <td>1</td>\n",
       "    </tr>\n",
       "    <tr>\n",
       "      <th>1</th>\n",
       "      <td>4</td>\n",
       "      <td>43</td>\n",
       "      <td>1</td>\n",
       "      <td>1</td>\n",
       "      <td>?</td>\n",
       "      <td>1</td>\n",
       "    </tr>\n",
       "    <tr>\n",
       "      <th>2</th>\n",
       "      <td>5</td>\n",
       "      <td>58</td>\n",
       "      <td>4</td>\n",
       "      <td>5</td>\n",
       "      <td>3</td>\n",
       "      <td>1</td>\n",
       "    </tr>\n",
       "    <tr>\n",
       "      <th>3</th>\n",
       "      <td>4</td>\n",
       "      <td>28</td>\n",
       "      <td>1</td>\n",
       "      <td>1</td>\n",
       "      <td>3</td>\n",
       "      <td>0</td>\n",
       "    </tr>\n",
       "    <tr>\n",
       "      <th>4</th>\n",
       "      <td>5</td>\n",
       "      <td>74</td>\n",
       "      <td>1</td>\n",
       "      <td>5</td>\n",
       "      <td>?</td>\n",
       "      <td>1</td>\n",
       "    </tr>\n",
       "  </tbody>\n",
       "</table>\n",
       "</div>"
      ],
      "text/plain": [
       "  BI-RADS Age Shape Margin Density  Severity\n",
       "0       5  67     3      5       3         1\n",
       "1       4  43     1      1       ?         1\n",
       "2       5  58     4      5       3         1\n",
       "3       4  28     1      1       3         0\n",
       "4       5  74     1      5       ?         1"
      ]
     },
     "execution_count": 21,
     "metadata": {},
     "output_type": "execute_result"
    }
   ],
   "source": [
    "# Download the data\n",
    "url = \"http://archive.ics.uci.edu/ml/machine-learning-databases/mammographic-masses/mammographic_masses.data\"\n",
    "Mamm = pd.read_csv(url, header=None)\n",
    "Mamm.columns = [\"BI-RADS\", \"Age\", \"Shape\", \"Margin\", \"Density\", \"Severity\"]\n",
    "Mamm.head()"
   ]
  },
  {
   "cell_type": "code",
   "execution_count": 22,
   "metadata": {},
   "outputs": [
    {
     "data": {
      "text/html": [
       "<div>\n",
       "<style scoped>\n",
       "    .dataframe tbody tr th:only-of-type {\n",
       "        vertical-align: middle;\n",
       "    }\n",
       "\n",
       "    .dataframe tbody tr th {\n",
       "        vertical-align: top;\n",
       "    }\n",
       "\n",
       "    .dataframe thead th {\n",
       "        text-align: right;\n",
       "    }\n",
       "</style>\n",
       "<table border=\"1\" class=\"dataframe\">\n",
       "  <thead>\n",
       "    <tr style=\"text-align: right;\">\n",
       "      <th></th>\n",
       "      <th>BI-RADS</th>\n",
       "      <th>Age</th>\n",
       "      <th>Shape</th>\n",
       "      <th>Margin</th>\n",
       "      <th>Density</th>\n",
       "      <th>Severity</th>\n",
       "    </tr>\n",
       "  </thead>\n",
       "  <tbody>\n",
       "    <tr>\n",
       "      <th>0</th>\n",
       "      <td>5</td>\n",
       "      <td>67</td>\n",
       "      <td>3</td>\n",
       "      <td>5</td>\n",
       "      <td>3</td>\n",
       "      <td>1</td>\n",
       "    </tr>\n",
       "    <tr>\n",
       "      <th>2</th>\n",
       "      <td>5</td>\n",
       "      <td>58</td>\n",
       "      <td>4</td>\n",
       "      <td>5</td>\n",
       "      <td>3</td>\n",
       "      <td>1</td>\n",
       "    </tr>\n",
       "    <tr>\n",
       "      <th>3</th>\n",
       "      <td>4</td>\n",
       "      <td>28</td>\n",
       "      <td>1</td>\n",
       "      <td>1</td>\n",
       "      <td>3</td>\n",
       "      <td>0</td>\n",
       "    </tr>\n",
       "    <tr>\n",
       "      <th>8</th>\n",
       "      <td>5</td>\n",
       "      <td>57</td>\n",
       "      <td>1</td>\n",
       "      <td>5</td>\n",
       "      <td>3</td>\n",
       "      <td>1</td>\n",
       "    </tr>\n",
       "    <tr>\n",
       "      <th>10</th>\n",
       "      <td>5</td>\n",
       "      <td>76</td>\n",
       "      <td>1</td>\n",
       "      <td>4</td>\n",
       "      <td>3</td>\n",
       "      <td>1</td>\n",
       "    </tr>\n",
       "  </tbody>\n",
       "</table>\n",
       "</div>"
      ],
      "text/plain": [
       "   BI-RADS Age Shape Margin Density  Severity\n",
       "0        5  67     3      5       3         1\n",
       "2        5  58     4      5       3         1\n",
       "3        4  28     1      1       3         0\n",
       "8        5  57     1      5       3         1\n",
       "10       5  76     1      4       3         1"
      ]
     },
     "execution_count": 22,
     "metadata": {},
     "output_type": "execute_result"
    }
   ],
   "source": [
    "# Remove rows with missing values\n",
    "Mamm = Mamm.replace(to_replace=\"?\", value=float(\"NaN\"))\n",
    "Mamm = Mamm.dropna(axis=0)\n",
    "Mamm.head()"
   ]
  },
  {
   "cell_type": "code",
   "execution_count": 23,
   "metadata": {},
   "outputs": [
    {
     "data": {
      "text/plain": [
       "0      5\n",
       "2      5\n",
       "3      4\n",
       "8      5\n",
       "10     5\n",
       "      ..\n",
       "956    4\n",
       "957    4\n",
       "958    4\n",
       "959    5\n",
       "960    4\n",
       "Name: BI-RADS, Length: 830, dtype: int64"
      ]
     },
     "execution_count": 23,
     "metadata": {},
     "output_type": "execute_result"
    }
   ],
   "source": [
    "# Coerce to numeric\n",
    "Mamm.loc[:, \"BI-RADS\"] = pd.to_numeric(Mamm.loc[:, \"BI-RADS\"], errors='coerce')\n",
    "Mamm.loc[:, \"BI-RADS\"]"
   ]
  },
  {
   "cell_type": "code",
   "execution_count": 25,
   "metadata": {},
   "outputs": [],
   "source": [
    "Mamm.loc[Mamm.loc[:, \"BI-RADS\"] > 6, \"BI-RADS\"] = 6"
   ]
  },
  {
   "cell_type": "code",
   "execution_count": 26,
   "metadata": {},
   "outputs": [],
   "source": [
    "Mamm.loc[:, \"Age\"] = pd.to_numeric(Mamm.loc[:, \"Age\"], errors='coerce')\n",
    "Mamm.loc[:, \"Density\"] = pd.to_numeric(Mamm.loc[:, \"Density\"], errors='coerce')"
   ]
  },
  {
   "cell_type": "code",
   "execution_count": 27,
   "metadata": {},
   "outputs": [],
   "source": [
    "# The category columns are decoded, missing values are imputed, and categories\n",
    "# are consolidated\n",
    "Mamm.loc[ Mamm.loc[:, \"Shape\"] == \"1\", \"Shape\"] = \"oval\"\n",
    "Mamm.loc[Mamm.loc[:, \"Shape\"] == \"2\", \"Shape\"] = \"oval\"\n",
    "Mamm.loc[Mamm.loc[:, \"Shape\"] == \"3\", \"Shape\"] = \"lobular\"\n",
    "Mamm.loc[Mamm.loc[:, \"Shape\"] == \"4\", \"Shape\"] = \"irregular\"\n",
    "Mamm.loc[:, \"oval\"] = (Mamm.loc[:, \"Shape\"] == \"oval\").astype(int)\n",
    "Mamm.loc[:, \"lobul\"] = (Mamm.loc[:, \"Shape\"] == \"lobular\").astype(int)\n",
    "Mamm.loc[:, \"irreg\"] = (Mamm.loc[:, \"Shape\"] == \"irregular\").astype(int)\n",
    "Mamm = Mamm.drop(\"Shape\", axis=1)\n",
    "\n",
    "Mamm.loc[Mamm.loc[:, \"Margin\"] == \"1\", \"Margin\"] = \"circumscribed\"\n",
    "Mamm.loc[Mamm.loc[:, \"Margin\"] == \"2\", \"Margin\"] = \"ill-defined\"\n",
    "Mamm.loc[Mamm.loc[:, \"Margin\"] == \"3\", \"Margin\"] = \"ill-defined\"\n",
    "Mamm.loc[Mamm.loc[:, \"Margin\"] == \"4\", \"Margin\"] = \"ill-defined\"\n",
    "Mamm.loc[Mamm.loc[:, \"Margin\"] == \"5\", \"Margin\"] = \"spiculated\"\n",
    "Mamm.loc[:, \"ill-d\"] = (Mamm.loc[:, \"Margin\"] == \"ill-defined\").astype(int)\n",
    "Mamm.loc[:, \"circu\"] = (Mamm.loc[:, \"Margin\"] == \"circumscribed\").astype(int)\n",
    "Mamm.loc[:, \"spicu\"] = (Mamm.loc[:, \"Margin\"] == \"spiculated\").astype(int)\n",
    "Mamm = Mamm.drop(\"Margin\", axis=1)"
   ]
  },
  {
   "cell_type": "code",
   "execution_count": 28,
   "metadata": {},
   "outputs": [
    {
     "name": "stdout",
     "output_type": "stream",
     "text": [
      "\n",
      "Verify that all variables are numeric\n",
      "BI-RADS     int64\n",
      "Age         int64\n",
      "Density     int64\n",
      "Severity    int64\n",
      "oval        int32\n",
      "lobul       int32\n",
      "irreg       int32\n",
      "ill-d       int32\n",
      "circu       int32\n",
      "spicu       int32\n",
      "dtype: object\n"
     ]
    }
   ],
   "source": [
    "print ('\\nVerify that all variables are numeric')\n",
    "print(Mamm.dtypes)"
   ]
  },
  {
   "cell_type": "code",
   "execution_count": 33,
   "metadata": {},
   "outputs": [
    {
     "name": "stdout",
     "output_type": "stream",
     "text": [
      "\n",
      "Determine Model Accuracy\n",
      "Test fraction is chosen to be: 0.3\n",
      "\n",
      "Simple approximate split:\n",
      "Test size should have been  249.0 ; and is:  258\n",
      "\n",
      "sklearn accurate split:\n",
      "Test size should have been  249.0 ; and is:  249\n",
      "\n",
      " Use logistic regression to predict Severity from other variables in Mamm\n",
      "\n",
      "Confusion Matrix and Metrics\n",
      "Probability Threshold is chosen to be: 0.5\n",
      "TP, TN, FP, FN: 111 , 102 , 20 , 16\n",
      "Accuracy rate: 0.86\n",
      "Precision: 0.85\n",
      "Recall: 0.87\n"
     ]
    },
    {
     "name": "stderr",
     "output_type": "stream",
     "text": [
      "C:\\Users\\v-trugan\\Anaconda3\\lib\\site-packages\\sklearn\\linear_model\\_logistic.py:940: ConvergenceWarning: lbfgs failed to converge (status=1):\n",
      "STOP: TOTAL NO. of ITERATIONS REACHED LIMIT.\n",
      "\n",
      "Increase the number of iterations (max_iter) or scale the data as shown in:\n",
      "    https://scikit-learn.org/stable/modules/preprocessing.html\n",
      "Please also refer to the documentation for alternative solver options:\n",
      "    https://scikit-learn.org/stable/modules/linear_model.html#logistic-regression\n",
      "  extra_warning_msg=_LOGISTIC_SOLVER_CONVERGENCE_MSG)\n",
      "C:\\Users\\v-trugan\\Anaconda3\\lib\\site-packages\\ipykernel_launcher.py:55: MatplotlibDeprecationWarning: Case-insensitive properties were deprecated in 3.3 and support will be removed two minor releases later\n",
      "C:\\Users\\v-trugan\\Anaconda3\\lib\\site-packages\\ipykernel_launcher.py:56: MatplotlibDeprecationWarning: Case-insensitive properties were deprecated in 3.3 and support will be removed two minor releases later\n"
     ]
    },
    {
     "data": {
      "image/png": "[encoded data removed]",
      "text/plain": [
       "<Figure size 576x576 with 1 Axes>"
      ]
     },
     "metadata": {
      "needs_background": "light"
     },
     "output_type": "display_data"
    }
   ],
   "source": [
    "from sklearn.model_selection import train_test_split\n",
    "import matplotlib\n",
    "print ('\\nDetermine Model Accuracy')\n",
    "\n",
    "TestFraction = 0.3\n",
    "print (\"Test fraction is chosen to be:\", TestFraction)\n",
    "\n",
    "print ('\\nSimple approximate split:')\n",
    "isTest = np.random.rand(len(Mamm)) < TestFraction\n",
    "\n",
    "TrainSet = Mamm[~isTest]\n",
    "TestSet = Mamm[isTest] # should be 249 but usually is not\n",
    "print ('Test size should have been ', \n",
    "       TestFraction*len(Mamm), \"; and is: \", len(TestSet))\n",
    "\n",
    "print ('\\nsklearn accurate split:')\n",
    "TrainSet, TestSet = train_test_split(Mamm, test_size=TestFraction)\n",
    "print ('Test size should have been ', \n",
    "       TestFraction*len(Mamm), \"; and is: \", len(TestSet))\n",
    "\n",
    "print ('\\n Use logistic regression to predict Severity from other variables in Mamm')\n",
    "Target = \"Severity\"\n",
    "Inputs = list(Mamm.columns)\n",
    "Inputs.remove(Target)\n",
    "clf = LogisticRegression()\n",
    "clf.fit(TrainSet.loc[:,Inputs], TrainSet.loc[:,Target])\n",
    "BothProbabilities = clf.predict_proba(TestSet.loc[:,Inputs])\n",
    "probabilities = BothProbabilities[:,1]\n",
    "\n",
    "print ('\\nConfusion Matrix and Metrics')\n",
    "Threshold = 0.5 # Some number between 0 and 1\n",
    "print (\"Probability Threshold is chosen to be:\", Threshold)\n",
    "predictions = (probabilities > Threshold).astype(int)\n",
    "CM = confusion_matrix(TestSet.loc[:,Target], predictions)\n",
    "tn, fp, fn, tp = CM.ravel()\n",
    "print (\"TP, TN, FP, FN:\", tp, \",\", tn, \",\", fp, \",\", fn)\n",
    "AR = accuracy_score(TestSet.loc[:,Target], predictions)\n",
    "print (\"Accuracy rate:\", np.round(AR, 2))\n",
    "P = precision_score(TestSet.loc[:,Target], predictions)\n",
    "print (\"Precision:\", np.round(P, 2))\n",
    "R = recall_score(TestSet.loc[:,Target], predictions)\n",
    "print (\"Recall:\", np.round(R, 2))\n",
    "\n",
    " # False Positive Rate, True Posisive Rate, probability thresholds\n",
    "fpr, tpr, th = roc_curve(TestSet.loc[:,Target], probabilities)\n",
    "AUC = auc(fpr, tpr)\n",
    "\n",
    "plt.rcParams[\"figure.figsize\"] = [8, 8] # Square\n",
    "font = {'family' : 'normal', 'weight' : 'bold', 'size' : 18}\n",
    "matplotlib.rc('font', **font)\n",
    "plt.figure()\n",
    "plt.title('ROC Curve')\n",
    "plt.xlabel('FPR')\n",
    "plt.ylabel('TPR')\n",
    "plt.plot(fpr, tpr, LW=3, label='ROC curve (AUC = %0.2f)' % AUC)\n",
    "plt.plot([0, 1], [0, 1], color='navy', LW=3, linestyle='--') # reference line for random classifier\n",
    "plt.legend(loc=\"lower right\")\n",
    "plt.show()"
   ]
  },
  {
   "cell_type": "code",
   "execution_count": null,
   "metadata": {},
   "outputs": [],
   "source": []
  }
 ],
 "metadata": {
  "kernelspec": {
   "display_name": "Python 3",
   "language": "python",
   "name": "python3"
  },
  "language_info": {
   "codemirror_mode": {
    "name": "ipython",
    "version": 3
   },
   "file_extension": ".py",
   "mimetype": "text/x-python",
   "name": "python",
   "nbconvert_exporter": "python",
   "pygments_lexer": "ipython3",
   "version": "3.7.6"
  }
 },
 "nbformat": 4,
 "nbformat_minor": 4
}
