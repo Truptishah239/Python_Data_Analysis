{
 "cells": [
  {
   "cell_type": "markdown",
   "metadata": {},
   "source": [
    "# <div id=\"instructions\" style=\"border-radius: 5px; background-color:#f5f5f5;\" >\n",
    "<h1>Instructions</h1>\n",
    "<p>Look for the <b>Your Turn</b> sections to complete the code and/or answer questions.<p>\n",
    "</div>"
   ]
  },
  {
   "cell_type": "markdown",
   "metadata": {
    "colab_type": "text",
    "id": "RDUOQETeFdN4"
   },
   "source": [
    "# Lesson 3 Counts and Combinatorics\n",
    "\n",
    "\n",
    "In this notebook we will explore count data and combinatorics. Event data is typically analyzed as counts for the number of each type of event that occurs. Determining the number of possible outcomes is key to computing the chances of an event occurring. This branch of mathematics is known as **combinatorics**.\n"
   ]
  },
  {
   "cell_type": "markdown",
   "metadata": {
    "colab_type": "text",
    "id": "o5ku1b6VFdN5"
   },
   "source": [
    "### Counting and Combinatorics\n",
    "\n",
    "Combinatorics is one of the biggest areas of mathematics. We apply combinatorics to compute the possible combinations or permutations of a combination of events. \n",
    "\n",
    "For example, we can use combinatorics to compute the number of possible sandwiches we can order at a sandwich shop with a limited menu: 4 bread choices, 5 meat choices, 4 toppings.  How many unique sandwich combination can we order by picking one item from each category?   \n",
    "\n",
    "$$4 * 5 * 4 = 80$$\n",
    "\n",
    "You can see that for this problem we just need to multiple the number of choices for each class. This is an example of the **multiplication principle** of combinatorics.\n",
    "\n",
    "In the above example there is no dependency of our choice from one category to another. Consequently, we can find all of the possible combinations by simple multiplication. \n",
    "\n",
    "This is not always the case. Let's look at an example where each event changes the subsequent possible events. Let's say I go to a pub and I want to order a 4-beer taster, with each beer being unique. The pub has 10 beers on tap. How many possible choices do I have for my taster? Fortunately I know `python`, so I can use the `python` `itertools.combinations` function to build a table of all possible combinations of my 4-beer taster!"
   ]
  },
  {
   "cell_type": "code",
   "execution_count": 1,
   "metadata": {
    "colab": {
     "autoexec": {
      "startup": false,
      "wait_interval": 0
     }
    },
    "colab_type": "code",
    "id": "jPObv0aFFdN6"
   },
   "outputs": [],
   "source": [
    "import numpy\n",
    "import itertools\n",
    "import pandas"
   ]
  },
  {
   "cell_type": "code",
   "execution_count": 2,
   "metadata": {
    "colab": {
     "autoexec": {
      "startup": false,
      "wait_interval": 0
     },
     "output_extras": [
      {}
     ]
    },
    "colab_type": "code",
    "id": "cgFVyKnLFdN9",
    "outputId": "c315e7f3-b1f0-46a8-fe68-a9f377c0525f"
   },
   "outputs": [
    {
     "data": {
      "text/plain": [
       "array([[0, 1, 2, 3],\n",
       "       [0, 1, 2, 4],\n",
       "       [0, 1, 2, 5],\n",
       "       [0, 1, 2, 6],\n",
       "       [0, 1, 2, 7],\n",
       "       [0, 1, 2, 8],\n",
       "       [0, 1, 2, 9],\n",
       "       [0, 1, 3, 4],\n",
       "       [0, 1, 3, 5],\n",
       "       [0, 1, 3, 6]])"
      ]
     },
     "execution_count": 2,
     "metadata": {},
     "output_type": "execute_result"
    }
   ],
   "source": [
    "c = numpy.array(list(itertools.combinations(range(10), 4)))\n",
    "c.shape\n",
    "c[:10]"
   ]
  },
  {
   "cell_type": "markdown",
   "metadata": {
    "colab_type": "text",
    "id": "6tYm5sJUFdOC"
   },
   "source": [
    "The function builds a table of all combinations of 4 items chosen from a list of 10. The second dimension tells me the number of combinations present. "
   ]
  },
  {
   "cell_type": "markdown",
   "metadata": {
    "colab_type": "text",
    "id": "omqQZZXJFdOD"
   },
   "source": [
    "### Sandwich combinatorics\n",
    " \n",
    " Let's investigate the sandwich shop example in a bit more detail. The code in the cell below creates three vectors containing the possible choices for bread, meat and topping. Execute this code."
   ]
  },
  {
   "cell_type": "code",
   "execution_count": 7,
   "metadata": {
    "colab": {
     "autoexec": {
      "startup": false,
      "wait_interval": 0
     }
    },
    "colab_type": "code",
    "id": "ryvsfcpbFdOE"
   },
   "outputs": [],
   "source": [
    "##-----Sandwich Count----\n",
    "breads = ['white', 'wheat', 'italian', 'sevengrain']\n",
    "meats = ['ham', 'turkey', 'chicken', 'pastrami', 'meatballs']\n",
    "toppings = ['mustard', 'mayo', 'salt_pepper', 'oil_vinegar']"
   ]
  },
  {
   "cell_type": "markdown",
   "metadata": {
    "colab_type": "text",
    "id": "LhBDsy9pFdOG"
   },
   "source": [
    "To make our calculations simple, we can create a table or grid of all the possible sandwich choices. Execute the code in the cell below to create a grid or table of the possible sandwich choices, using the ```expand.grid``` function. "
   ]
  },
  {
   "cell_type": "code",
   "execution_count": 8,
   "metadata": {
    "colab": {
     "autoexec": {
      "startup": false,
      "wait_interval": 0
     },
     "output_extras": [
      {}
     ]
    },
    "colab_type": "code",
    "id": "tBQWYp9mFdOG",
    "outputId": "1419c152-4909-43bd-a29f-8f26ecb6cf63"
   },
   "outputs": [
    {
     "data": {
      "text/plain": [
       "('white', 'ham', 'mustard')"
      ]
     },
     "execution_count": 8,
     "metadata": {},
     "output_type": "execute_result"
    }
   ],
   "source": [
    "next(itertools.product(breads, meats, toppings))"
   ]
  },
  {
   "cell_type": "code",
   "execution_count": 9,
   "metadata": {
    "colab": {
     "autoexec": {
      "startup": false,
      "wait_interval": 0
     },
     "output_extras": [
      {},
      {}
     ]
    },
    "colab_type": "code",
    "id": "BlV8pJEnFdOK",
    "outputId": "9ef2cc32-a15c-4785-836d-105e6bd0a660"
   },
   "outputs": [
    {
     "name": "stdout",
     "output_type": "stream",
     "text": [
      "80\n"
     ]
    },
    {
     "data": {
      "text/html": [
       "<div>\n",
       "<style scoped>\n",
       "    .dataframe tbody tr th:only-of-type {\n",
       "        vertical-align: middle;\n",
       "    }\n",
       "\n",
       "    .dataframe tbody tr th {\n",
       "        vertical-align: top;\n",
       "    }\n",
       "\n",
       "    .dataframe thead th {\n",
       "        text-align: right;\n",
       "    }\n",
       "</style>\n",
       "<table border=\"1\" class=\"dataframe\">\n",
       "  <thead>\n",
       "    <tr style=\"text-align: right;\">\n",
       "      <th></th>\n",
       "      <th>breads</th>\n",
       "      <th>meats</th>\n",
       "      <th>toppings</th>\n",
       "    </tr>\n",
       "  </thead>\n",
       "  <tbody>\n",
       "    <tr>\n",
       "      <th>0</th>\n",
       "      <td>white</td>\n",
       "      <td>ham</td>\n",
       "      <td>mustard</td>\n",
       "    </tr>\n",
       "    <tr>\n",
       "      <th>1</th>\n",
       "      <td>white</td>\n",
       "      <td>ham</td>\n",
       "      <td>mayo</td>\n",
       "    </tr>\n",
       "    <tr>\n",
       "      <th>2</th>\n",
       "      <td>white</td>\n",
       "      <td>ham</td>\n",
       "      <td>salt_pepper</td>\n",
       "    </tr>\n",
       "    <tr>\n",
       "      <th>3</th>\n",
       "      <td>white</td>\n",
       "      <td>ham</td>\n",
       "      <td>oil_vinegar</td>\n",
       "    </tr>\n",
       "    <tr>\n",
       "      <th>4</th>\n",
       "      <td>white</td>\n",
       "      <td>turkey</td>\n",
       "      <td>mustard</td>\n",
       "    </tr>\n",
       "    <tr>\n",
       "      <th>5</th>\n",
       "      <td>white</td>\n",
       "      <td>turkey</td>\n",
       "      <td>mayo</td>\n",
       "    </tr>\n",
       "    <tr>\n",
       "      <th>6</th>\n",
       "      <td>white</td>\n",
       "      <td>turkey</td>\n",
       "      <td>salt_pepper</td>\n",
       "    </tr>\n",
       "    <tr>\n",
       "      <th>7</th>\n",
       "      <td>white</td>\n",
       "      <td>turkey</td>\n",
       "      <td>oil_vinegar</td>\n",
       "    </tr>\n",
       "    <tr>\n",
       "      <th>8</th>\n",
       "      <td>white</td>\n",
       "      <td>chicken</td>\n",
       "      <td>mustard</td>\n",
       "    </tr>\n",
       "    <tr>\n",
       "      <th>9</th>\n",
       "      <td>white</td>\n",
       "      <td>chicken</td>\n",
       "      <td>mayo</td>\n",
       "    </tr>\n",
       "    <tr>\n",
       "      <th>10</th>\n",
       "      <td>white</td>\n",
       "      <td>chicken</td>\n",
       "      <td>salt_pepper</td>\n",
       "    </tr>\n",
       "    <tr>\n",
       "      <th>11</th>\n",
       "      <td>white</td>\n",
       "      <td>chicken</td>\n",
       "      <td>oil_vinegar</td>\n",
       "    </tr>\n",
       "    <tr>\n",
       "      <th>12</th>\n",
       "      <td>white</td>\n",
       "      <td>pastrami</td>\n",
       "      <td>mustard</td>\n",
       "    </tr>\n",
       "    <tr>\n",
       "      <th>13</th>\n",
       "      <td>white</td>\n",
       "      <td>pastrami</td>\n",
       "      <td>mayo</td>\n",
       "    </tr>\n",
       "    <tr>\n",
       "      <th>14</th>\n",
       "      <td>white</td>\n",
       "      <td>pastrami</td>\n",
       "      <td>salt_pepper</td>\n",
       "    </tr>\n",
       "    <tr>\n",
       "      <th>15</th>\n",
       "      <td>white</td>\n",
       "      <td>pastrami</td>\n",
       "      <td>oil_vinegar</td>\n",
       "    </tr>\n",
       "    <tr>\n",
       "      <th>16</th>\n",
       "      <td>white</td>\n",
       "      <td>meatballs</td>\n",
       "      <td>mustard</td>\n",
       "    </tr>\n",
       "    <tr>\n",
       "      <th>17</th>\n",
       "      <td>white</td>\n",
       "      <td>meatballs</td>\n",
       "      <td>mayo</td>\n",
       "    </tr>\n",
       "    <tr>\n",
       "      <th>18</th>\n",
       "      <td>white</td>\n",
       "      <td>meatballs</td>\n",
       "      <td>salt_pepper</td>\n",
       "    </tr>\n",
       "    <tr>\n",
       "      <th>19</th>\n",
       "      <td>white</td>\n",
       "      <td>meatballs</td>\n",
       "      <td>oil_vinegar</td>\n",
       "    </tr>\n",
       "  </tbody>\n",
       "</table>\n",
       "</div>"
      ],
      "text/plain": [
       "   breads      meats     toppings\n",
       "0   white        ham      mustard\n",
       "1   white        ham         mayo\n",
       "2   white        ham  salt_pepper\n",
       "3   white        ham  oil_vinegar\n",
       "4   white     turkey      mustard\n",
       "5   white     turkey         mayo\n",
       "6   white     turkey  salt_pepper\n",
       "7   white     turkey  oil_vinegar\n",
       "8   white    chicken      mustard\n",
       "9   white    chicken         mayo\n",
       "10  white    chicken  salt_pepper\n",
       "11  white    chicken  oil_vinegar\n",
       "12  white   pastrami      mustard\n",
       "13  white   pastrami         mayo\n",
       "14  white   pastrami  salt_pepper\n",
       "15  white   pastrami  oil_vinegar\n",
       "16  white  meatballs      mustard\n",
       "17  white  meatballs         mayo\n",
       "18  white  meatballs  salt_pepper\n",
       "19  white  meatballs  oil_vinegar"
      ]
     },
     "execution_count": 9,
     "metadata": {},
     "output_type": "execute_result"
    }
   ],
   "source": [
    "sandwiches = pandas.DataFrame(\n",
    "    list(itertools.product(breads, meats, toppings)), \n",
    "    columns=['breads', 'meats', 'toppings'])\n",
    "print(len(sandwiches))\n",
    "sandwiches.head(20)"
   ]
  },
  {
   "cell_type": "markdown",
   "metadata": {
    "colab_type": "text",
    "id": "dh8kaq2oFdOO"
   },
   "source": [
    "As expected, there are 80 possible sandwich types enumerated in the table.\n",
    "\n",
    "***\n",
    "In the cell below, added the sandwich shop example with three types of cheese added to the menu, cheddar, american, swiss. There are 240 unique sandwiches can you now order.\n",
    "***"
   ]
  },
  {
   "cell_type": "code",
   "execution_count": 12,
   "metadata": {},
   "outputs": [],
   "source": [
    "cheese = ['cheddar', 'american', 'swiss']"
   ]
  },
  {
   "cell_type": "code",
   "execution_count": 13,
   "metadata": {
    "colab": {
     "autoexec": {
      "startup": false,
      "wait_interval": 0
     },
     "output_extras": [
      {},
      {}
     ]
    },
    "colab_type": "code",
    "id": "itLJoQwUFdOO",
    "outputId": "b31aa567-f4ae-4fa3-ed61-fc19695d8c5f"
   },
   "outputs": [
    {
     "name": "stdout",
     "output_type": "stream",
     "text": [
      "240\n"
     ]
    },
    {
     "data": {
      "text/html": [
       "<div>\n",
       "<style scoped>\n",
       "    .dataframe tbody tr th:only-of-type {\n",
       "        vertical-align: middle;\n",
       "    }\n",
       "\n",
       "    .dataframe tbody tr th {\n",
       "        vertical-align: top;\n",
       "    }\n",
       "\n",
       "    .dataframe thead th {\n",
       "        text-align: right;\n",
       "    }\n",
       "</style>\n",
       "<table border=\"1\" class=\"dataframe\">\n",
       "  <thead>\n",
       "    <tr style=\"text-align: right;\">\n",
       "      <th></th>\n",
       "      <th>breads</th>\n",
       "      <th>meats</th>\n",
       "      <th>toppings</th>\n",
       "      <th>cheese</th>\n",
       "    </tr>\n",
       "  </thead>\n",
       "  <tbody>\n",
       "    <tr>\n",
       "      <th>0</th>\n",
       "      <td>white</td>\n",
       "      <td>ham</td>\n",
       "      <td>mustard</td>\n",
       "      <td>cheddar</td>\n",
       "    </tr>\n",
       "    <tr>\n",
       "      <th>1</th>\n",
       "      <td>white</td>\n",
       "      <td>ham</td>\n",
       "      <td>mustard</td>\n",
       "      <td>american</td>\n",
       "    </tr>\n",
       "    <tr>\n",
       "      <th>2</th>\n",
       "      <td>white</td>\n",
       "      <td>ham</td>\n",
       "      <td>mustard</td>\n",
       "      <td>swiss</td>\n",
       "    </tr>\n",
       "    <tr>\n",
       "      <th>3</th>\n",
       "      <td>white</td>\n",
       "      <td>ham</td>\n",
       "      <td>mayo</td>\n",
       "      <td>cheddar</td>\n",
       "    </tr>\n",
       "    <tr>\n",
       "      <th>4</th>\n",
       "      <td>white</td>\n",
       "      <td>ham</td>\n",
       "      <td>mayo</td>\n",
       "      <td>american</td>\n",
       "    </tr>\n",
       "    <tr>\n",
       "      <th>5</th>\n",
       "      <td>white</td>\n",
       "      <td>ham</td>\n",
       "      <td>mayo</td>\n",
       "      <td>swiss</td>\n",
       "    </tr>\n",
       "    <tr>\n",
       "      <th>6</th>\n",
       "      <td>white</td>\n",
       "      <td>ham</td>\n",
       "      <td>salt_pepper</td>\n",
       "      <td>cheddar</td>\n",
       "    </tr>\n",
       "    <tr>\n",
       "      <th>7</th>\n",
       "      <td>white</td>\n",
       "      <td>ham</td>\n",
       "      <td>salt_pepper</td>\n",
       "      <td>american</td>\n",
       "    </tr>\n",
       "    <tr>\n",
       "      <th>8</th>\n",
       "      <td>white</td>\n",
       "      <td>ham</td>\n",
       "      <td>salt_pepper</td>\n",
       "      <td>swiss</td>\n",
       "    </tr>\n",
       "    <tr>\n",
       "      <th>9</th>\n",
       "      <td>white</td>\n",
       "      <td>ham</td>\n",
       "      <td>oil_vinegar</td>\n",
       "      <td>cheddar</td>\n",
       "    </tr>\n",
       "    <tr>\n",
       "      <th>10</th>\n",
       "      <td>white</td>\n",
       "      <td>ham</td>\n",
       "      <td>oil_vinegar</td>\n",
       "      <td>american</td>\n",
       "    </tr>\n",
       "    <tr>\n",
       "      <th>11</th>\n",
       "      <td>white</td>\n",
       "      <td>ham</td>\n",
       "      <td>oil_vinegar</td>\n",
       "      <td>swiss</td>\n",
       "    </tr>\n",
       "    <tr>\n",
       "      <th>12</th>\n",
       "      <td>white</td>\n",
       "      <td>turkey</td>\n",
       "      <td>mustard</td>\n",
       "      <td>cheddar</td>\n",
       "    </tr>\n",
       "    <tr>\n",
       "      <th>13</th>\n",
       "      <td>white</td>\n",
       "      <td>turkey</td>\n",
       "      <td>mustard</td>\n",
       "      <td>american</td>\n",
       "    </tr>\n",
       "    <tr>\n",
       "      <th>14</th>\n",
       "      <td>white</td>\n",
       "      <td>turkey</td>\n",
       "      <td>mustard</td>\n",
       "      <td>swiss</td>\n",
       "    </tr>\n",
       "    <tr>\n",
       "      <th>15</th>\n",
       "      <td>white</td>\n",
       "      <td>turkey</td>\n",
       "      <td>mayo</td>\n",
       "      <td>cheddar</td>\n",
       "    </tr>\n",
       "    <tr>\n",
       "      <th>16</th>\n",
       "      <td>white</td>\n",
       "      <td>turkey</td>\n",
       "      <td>mayo</td>\n",
       "      <td>american</td>\n",
       "    </tr>\n",
       "    <tr>\n",
       "      <th>17</th>\n",
       "      <td>white</td>\n",
       "      <td>turkey</td>\n",
       "      <td>mayo</td>\n",
       "      <td>swiss</td>\n",
       "    </tr>\n",
       "    <tr>\n",
       "      <th>18</th>\n",
       "      <td>white</td>\n",
       "      <td>turkey</td>\n",
       "      <td>salt_pepper</td>\n",
       "      <td>cheddar</td>\n",
       "    </tr>\n",
       "    <tr>\n",
       "      <th>19</th>\n",
       "      <td>white</td>\n",
       "      <td>turkey</td>\n",
       "      <td>salt_pepper</td>\n",
       "      <td>american</td>\n",
       "    </tr>\n",
       "  </tbody>\n",
       "</table>\n",
       "</div>"
      ],
      "text/plain": [
       "   breads   meats     toppings    cheese\n",
       "0   white     ham      mustard   cheddar\n",
       "1   white     ham      mustard  american\n",
       "2   white     ham      mustard     swiss\n",
       "3   white     ham         mayo   cheddar\n",
       "4   white     ham         mayo  american\n",
       "5   white     ham         mayo     swiss\n",
       "6   white     ham  salt_pepper   cheddar\n",
       "7   white     ham  salt_pepper  american\n",
       "8   white     ham  salt_pepper     swiss\n",
       "9   white     ham  oil_vinegar   cheddar\n",
       "10  white     ham  oil_vinegar  american\n",
       "11  white     ham  oil_vinegar     swiss\n",
       "12  white  turkey      mustard   cheddar\n",
       "13  white  turkey      mustard  american\n",
       "14  white  turkey      mustard     swiss\n",
       "15  white  turkey         mayo   cheddar\n",
       "16  white  turkey         mayo  american\n",
       "17  white  turkey         mayo     swiss\n",
       "18  white  turkey  salt_pepper   cheddar\n",
       "19  white  turkey  salt_pepper  american"
      ]
     },
     "execution_count": 13,
     "metadata": {},
     "output_type": "execute_result"
    }
   ],
   "source": [
    "sandwiches = pandas.DataFrame(\n",
    "    list(itertools.product(breads, meats, toppings, cheese)), \n",
    "    columns=['breads', 'meats', 'toppings', 'cheese'])\n",
    "print(len(sandwiches))\n",
    "sandwiches.head(20)"
   ]
  },
  {
   "cell_type": "markdown",
   "metadata": {
    "colab_type": "text",
    "collapsed": true,
    "id": "CvI8O90JFdOR"
   },
   "source": [
    "###  Factorials and permutations\n",
    "\n",
    "Factorials are a way to compute the number of ways to order $N$ things. We use the term **Permutations** to describe the number of ways you can order some objects or events. This is where **factorials** arise:\n",
    "\n",
    "$$Number\\ of\\ ways\\ to\\ order\\ N\\ things = N!$$  \n",
    "\n",
    "Let's say you have 5 new books on probability you wish to put on a shelf (having read them cover-to-cover no doubt!). How many ways can you order them?  \n",
    "\n",
    "$$5 * 4 * 3 * 2 * 1 = 5! = 120$$\n",
    "\n",
    "This is another application of the multiplication principle. \n",
    "\n",
    "Easy enough, so far. But let's say we want to find the number of permutations of $k$ unique items chosen from $N$ total items. We can compute the number of possible permutations as:\n",
    "\n",
    "$$\\frac{N!}{(N - k)!}$$\n",
    "\n",
    "Let's revisit our beer example. The order I drink my 4 beers in the sampler might matter. Maybe the tastes will be a bit different if I drink stout before I drink a red ale? We saw the number of combinations previously. But, since order matters, I have many more permutations:\n",
    "\n",
    "$$\\frac{10!}{(10 - 4)!} = 10 * 9 * 8 * 7 = 5040$$\n",
    "\n",
    "****\n",
    "### Your turn: \n",
    "Let's say I am going to order a 5-beer taster and I care about order. In the cell below create the code to compute how many permutations are there. Can you see how the number of permutations gets large rather quickly? \n",
    "****\n",
    "\n"
   ]
  },
  {
   "cell_type": "code",
   "execution_count": 28,
   "metadata": {
    "colab": {
     "autoexec": {
      "startup": false,
      "wait_interval": 0
     },
     "output_extras": [
      {}
     ]
    },
    "colab_type": "code",
    "id": "uT6FtBfoFdOU",
    "outputId": "4e98b544-f0cd-4a64-dda2-577dcb993f4a"
   },
   "outputs": [
    {
     "data": {
      "text/plain": [
       "120"
      ]
     },
     "execution_count": 28,
     "metadata": {},
     "output_type": "execute_result"
    }
   ],
   "source": [
    "def permutations(N):\n",
    "    total = 1\n",
    "    for i in range (N, 0, -1):\n",
    "        total = N * permutations(N-1)\n",
    "    \n",
    "    return total    \n",
    "        \n",
    "permutations(5)    "
   ]
  },
  {
   "cell_type": "markdown",
   "metadata": {
    "colab_type": "text",
    "id": "s1mHtJ91FdOe"
   },
   "source": [
    "### Computing factorials\n",
    "\n",
    "Computing factorials can be tricky. A 64 bit unsigned integer can represent numbers as large as $2^{64} = 9.2E18$. However $21! = 5.1E19$. In practice, computation of factorials is done on ratios to make the problem tractable. For example, we just wrote our beer example in a tractable form:\n",
    "\n",
    "$$\\frac{10!}{6!} = \\frac{10!}{(10-4)!} = 10 * 9 * 8 * 7$$\n",
    "\n",
    "We never had to actually compute the largest number $10!$. In fact, we just multiplied 4 numbers. \n",
    "\n",
    "### Combinations\n",
    "\n",
    "What if order does not matter? I may just want to find all unique combinations of k items of N choices. For example, for the beer example when order does not mater, there are $10$ choices and I want to pick $4$ unique choices. In the language of combinatorics, we say that the above quantity is $10$ **choose** $4$, which can be writen:\n",
    "\n",
    "$$\\frac{10!}{4!(10 - 4)!} = \\binom{10}{4}$$\n",
    "\n",
    "We say that $N$ choose $k$ is a **combinations** since order does not matter. More generally we compute combinations with the formula:\n",
    "\n",
    "$$\\frac{N!}{k!(N - k)!} = \\binom{N}{k}$$\n",
    "\n",
    "From these formulas you can see that combinations are less than permutations by a factor of $k!$.\n",
    "\n",
    "For our example, we can visualize how this process works with **Pascal's triangle**. You can see an example below. \n",
    "\n",
    "<img src=\"https://library.startlearninglabs.uw.edu/DATASCI410/img/PascalTriangleAnimated2.gif\" alt=\"Pascal's triangle\">\n",
    "\n",
    "In this case we find $10$ choose $4$ by counting down 10 rows and over 4 elements. Voila! we have the value we expect! \n",
    "\n",
    "Notice that Pascal's triangle is symmetric. This illustrates an important symmetry property of combinations. Notice that:\n",
    "\n",
    "$$\\binom{N}{k} = \\binom{N}{N-k}$$\n",
    "\n"
   ]
  },
  {
   "cell_type": "markdown",
   "metadata": {
    "colab_type": "text",
    "id": "m_tQbCWXFdOf"
   },
   "source": [
    "***\n",
    "### Your turn:\n",
    "Use the `scipy.special.comb` function to compute the number of 4-beer tasters you could create from 10 taps. Use the <a href=\"https://docs.scipy.org/doc/scipy-0.14.0/reference/generated/scipy.special.comb.html\">documentation</a> for more information.\n",
    "***"
   ]
  },
  {
   "attachments": {
    "image.png": {
     "image/png": "[encoded data removed]"
    }
   },
   "cell_type": "markdown",
   "metadata": {},
   "source": [
    "\n",
    "![image.png](attachment:image.png)"
   ]
  },
  {
   "cell_type": "code",
   "execution_count": 17,
   "metadata": {
    "colab": {
     "autoexec": {
      "startup": false,
      "wait_interval": 0
     },
     "output_extras": [
      {}
     ]
    },
    "colab_type": "code",
    "id": "iUgSxMT-FdOg",
    "outputId": "b0a9729f-2d78-422f-f2ef-6f4c5f167ed9"
   },
   "outputs": [
    {
     "data": {
      "text/plain": [
       "210.0"
      ]
     },
     "execution_count": 17,
     "metadata": {},
     "output_type": "execute_result"
    }
   ],
   "source": [
    "import scipy\n",
    "import scipy.special\n",
    "\n",
    "scipy.special.comb(10,4)#complete the missing arguments"
   ]
  },
  {
   "cell_type": "markdown",
   "metadata": {
    "colab_type": "text",
    "id": "zU_uMnM_FdOm"
   },
   "source": [
    "***\n",
    "**Fun note:** there are $52!$ ways to shuffle deck of cards, or combinations. It is likely that each shuffle is unique in the history of the world!\n",
    "***"
   ]
  },
  {
   "cell_type": "markdown",
   "metadata": {
    "colab_type": "text",
    "id": "229ooJevFdOm"
   },
   "source": [
    "## Summary\n",
    "\n",
    "In this notebook we have covered the following topics:\n",
    "\n",
    "1. Factorials ($N!$) are the number of ways to order N things.\n",
    "2. Permutations\n",
    "  - Ordering matters!\n",
    "  - The number of ways to order k things from N choices: \n",
    "  $$p(k,N) = \\frac{k!}{(N - k)!}$$.\n",
    "3. Combinations  \n",
    "  - Ordering does not matter.\n",
    "  - The number of ways to group (combinations) of k things from N choices:\n",
    "  $$c(k,N) = \\frac{N!}{k!(N - k)!} = \\binom{N}{k}$$\n",
    "  "
   ]
  },
  {
   "cell_type": "markdown",
   "metadata": {
    "colab": {
     "autoexec": {
      "startup": false,
      "wait_interval": 0
     }
    },
    "colab_type": "code",
    "collapsed": true,
    "id": "FlXSJ6rSFdOn"
   },
   "source": [
    "<div id=\"reminder\" style=\"border-radius: 5px; background-color:#f5f5f5;\" >\n",
    "<h3>Reminder</h3>\n",
    "<p>Use this notebook to answer the quiz questions related to the <b>Your Turn</b> sections.<p>\n",
    "</div>"
   ]
  }
 ],
 "metadata": {
  "colab": {
   "collapsed_sections": [],
   "default_view": {},
   "name": "CountsAndCombinatorics.ipynb",
   "provenance": [],
   "version": "0.3.2",
   "views": {}
  },
  "kernelspec": {
   "display_name": "Python 3",
   "language": "python",
   "name": "python3"
  },
  "language_info": {
   "codemirror_mode": {
    "name": "ipython",
    "version": 3
   },
   "file_extension": ".py",
   "mimetype": "text/x-python",
   "name": "python",
   "nbconvert_exporter": "python",
   "pygments_lexer": "ipython3",
   "version": "3.7.6"
  }
 },
 "nbformat": 4,
 "nbformat_minor": 1
}
