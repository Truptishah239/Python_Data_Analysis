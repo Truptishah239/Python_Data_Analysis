{
 "cells": [
  {
   "cell_type": "markdown",
   "metadata": {},
   "source": [
    "# <font color=\"blue\">Lesson 3 Basic Models</font>"
   ]
  },
  {
   "cell_type": "markdown",
   "metadata": {},
   "source": [
    "# Testing Regression Algorithms on the Same Dataset\n",
    "\n",
    "I'm using a KFold validation on the Boston House Pricing Dataset (downloaded from Kaggle) with several regression algorithms. This dataset is designed to predict median value (continuous) based on a variety of features, including the proximity to the Charles River. \n",
    "\n",
    "Don't worry about the \"details\" for now. Just focus on the testing of the accuracy of these side by side. This is a method you can use to identify the best classifier for a particular type of problem.\n",
    "\n",
    "**Linear**\n",
    "* Linear Regression\n",
    "* Ridge Regression (L2-Norm)\n",
    "* Least Absolute Shrinkage and Selection Operator (LASSO) (L1-Norm)\n",
    "* ElasticNet (L1- and L2-Norm)\n",
    "\n",
    "**Nonlinear**\n",
    "* kNN Regressor\n",
    "* Regressor tree \n",
    "* Support Vector Regressor (SVR)"
   ]
  },
  {
   "cell_type": "code",
   "execution_count": 1,
   "metadata": {},
   "outputs": [
    {
     "data": {
      "text/html": [
       "<div>\n",
       "<style scoped>\n",
       "    .dataframe tbody tr th:only-of-type {\n",
       "        vertical-align: middle;\n",
       "    }\n",
       "\n",
       "    .dataframe tbody tr th {\n",
       "        vertical-align: top;\n",
       "    }\n",
       "\n",
       "    .dataframe thead th {\n",
       "        text-align: right;\n",
       "    }\n",
       "</style>\n",
       "<table border=\"1\" class=\"dataframe\">\n",
       "  <thead>\n",
       "    <tr style=\"text-align: right;\">\n",
       "      <th></th>\n",
       "      <th>crime</th>\n",
       "      <th>zone_res</th>\n",
       "      <th>zone_ind</th>\n",
       "      <th>C_river</th>\n",
       "      <th>NOX</th>\n",
       "      <th>rooms</th>\n",
       "      <th>age</th>\n",
       "      <th>dist</th>\n",
       "      <th>hwy_acc</th>\n",
       "      <th>prop_tax</th>\n",
       "      <th>PT_ratio</th>\n",
       "      <th>AA_prop</th>\n",
       "      <th>low_inc</th>\n",
       "      <th>median_val</th>\n",
       "    </tr>\n",
       "  </thead>\n",
       "  <tbody>\n",
       "    <tr>\n",
       "      <th>count</th>\n",
       "      <td>506.000000</td>\n",
       "      <td>506.000000</td>\n",
       "      <td>506.000000</td>\n",
       "      <td>506.000000</td>\n",
       "      <td>506.000000</td>\n",
       "      <td>506.000000</td>\n",
       "      <td>506.000000</td>\n",
       "      <td>506.000000</td>\n",
       "      <td>506.000000</td>\n",
       "      <td>506.000000</td>\n",
       "      <td>506.000000</td>\n",
       "      <td>506.000000</td>\n",
       "      <td>506.000000</td>\n",
       "      <td>506.000000</td>\n",
       "    </tr>\n",
       "    <tr>\n",
       "      <th>mean</th>\n",
       "      <td>3.613524</td>\n",
       "      <td>11.363636</td>\n",
       "      <td>11.136779</td>\n",
       "      <td>0.069170</td>\n",
       "      <td>0.554695</td>\n",
       "      <td>6.284634</td>\n",
       "      <td>68.574901</td>\n",
       "      <td>3.795043</td>\n",
       "      <td>9.549407</td>\n",
       "      <td>408.237154</td>\n",
       "      <td>18.455534</td>\n",
       "      <td>356.674032</td>\n",
       "      <td>12.653063</td>\n",
       "      <td>22.532806</td>\n",
       "    </tr>\n",
       "    <tr>\n",
       "      <th>std</th>\n",
       "      <td>8.601545</td>\n",
       "      <td>23.322453</td>\n",
       "      <td>6.860353</td>\n",
       "      <td>0.253994</td>\n",
       "      <td>0.115878</td>\n",
       "      <td>0.702617</td>\n",
       "      <td>28.148861</td>\n",
       "      <td>2.105710</td>\n",
       "      <td>8.707259</td>\n",
       "      <td>168.537116</td>\n",
       "      <td>2.164946</td>\n",
       "      <td>91.294864</td>\n",
       "      <td>7.141062</td>\n",
       "      <td>9.197104</td>\n",
       "    </tr>\n",
       "    <tr>\n",
       "      <th>min</th>\n",
       "      <td>0.006320</td>\n",
       "      <td>0.000000</td>\n",
       "      <td>0.460000</td>\n",
       "      <td>0.000000</td>\n",
       "      <td>0.385000</td>\n",
       "      <td>3.561000</td>\n",
       "      <td>2.900000</td>\n",
       "      <td>1.129600</td>\n",
       "      <td>1.000000</td>\n",
       "      <td>187.000000</td>\n",
       "      <td>12.600000</td>\n",
       "      <td>0.320000</td>\n",
       "      <td>1.730000</td>\n",
       "      <td>5.000000</td>\n",
       "    </tr>\n",
       "    <tr>\n",
       "      <th>25%</th>\n",
       "      <td>0.082045</td>\n",
       "      <td>0.000000</td>\n",
       "      <td>5.190000</td>\n",
       "      <td>0.000000</td>\n",
       "      <td>0.449000</td>\n",
       "      <td>5.885500</td>\n",
       "      <td>45.025000</td>\n",
       "      <td>2.100175</td>\n",
       "      <td>4.000000</td>\n",
       "      <td>279.000000</td>\n",
       "      <td>17.400000</td>\n",
       "      <td>375.377500</td>\n",
       "      <td>6.950000</td>\n",
       "      <td>17.025000</td>\n",
       "    </tr>\n",
       "    <tr>\n",
       "      <th>50%</th>\n",
       "      <td>0.256510</td>\n",
       "      <td>0.000000</td>\n",
       "      <td>9.690000</td>\n",
       "      <td>0.000000</td>\n",
       "      <td>0.538000</td>\n",
       "      <td>6.208500</td>\n",
       "      <td>77.500000</td>\n",
       "      <td>3.207450</td>\n",
       "      <td>5.000000</td>\n",
       "      <td>330.000000</td>\n",
       "      <td>19.050000</td>\n",
       "      <td>391.440000</td>\n",
       "      <td>11.360000</td>\n",
       "      <td>21.200000</td>\n",
       "    </tr>\n",
       "    <tr>\n",
       "      <th>75%</th>\n",
       "      <td>3.677082</td>\n",
       "      <td>12.500000</td>\n",
       "      <td>18.100000</td>\n",
       "      <td>0.000000</td>\n",
       "      <td>0.624000</td>\n",
       "      <td>6.623500</td>\n",
       "      <td>94.075000</td>\n",
       "      <td>5.188425</td>\n",
       "      <td>24.000000</td>\n",
       "      <td>666.000000</td>\n",
       "      <td>20.200000</td>\n",
       "      <td>396.225000</td>\n",
       "      <td>16.955000</td>\n",
       "      <td>25.000000</td>\n",
       "    </tr>\n",
       "    <tr>\n",
       "      <th>max</th>\n",
       "      <td>88.976200</td>\n",
       "      <td>100.000000</td>\n",
       "      <td>27.740000</td>\n",
       "      <td>1.000000</td>\n",
       "      <td>0.871000</td>\n",
       "      <td>8.780000</td>\n",
       "      <td>100.000000</td>\n",
       "      <td>12.126500</td>\n",
       "      <td>24.000000</td>\n",
       "      <td>711.000000</td>\n",
       "      <td>22.000000</td>\n",
       "      <td>396.900000</td>\n",
       "      <td>37.970000</td>\n",
       "      <td>50.000000</td>\n",
       "    </tr>\n",
       "  </tbody>\n",
       "</table>\n",
       "</div>"
      ],
      "text/plain": [
       "            crime    zone_res    zone_ind     C_river         NOX       rooms  \\\n",
       "count  506.000000  506.000000  506.000000  506.000000  506.000000  506.000000   \n",
       "mean     3.613524   11.363636   11.136779    0.069170    0.554695    6.284634   \n",
       "std      8.601545   23.322453    6.860353    0.253994    0.115878    0.702617   \n",
       "min      0.006320    0.000000    0.460000    0.000000    0.385000    3.561000   \n",
       "25%      0.082045    0.000000    5.190000    0.000000    0.449000    5.885500   \n",
       "50%      0.256510    0.000000    9.690000    0.000000    0.538000    6.208500   \n",
       "75%      3.677082   12.500000   18.100000    0.000000    0.624000    6.623500   \n",
       "max     88.976200  100.000000   27.740000    1.000000    0.871000    8.780000   \n",
       "\n",
       "              age        dist     hwy_acc    prop_tax    PT_ratio     AA_prop  \\\n",
       "count  506.000000  506.000000  506.000000  506.000000  506.000000  506.000000   \n",
       "mean    68.574901    3.795043    9.549407  408.237154   18.455534  356.674032   \n",
       "std     28.148861    2.105710    8.707259  168.537116    2.164946   91.294864   \n",
       "min      2.900000    1.129600    1.000000  187.000000   12.600000    0.320000   \n",
       "25%     45.025000    2.100175    4.000000  279.000000   17.400000  375.377500   \n",
       "50%     77.500000    3.207450    5.000000  330.000000   19.050000  391.440000   \n",
       "75%     94.075000    5.188425   24.000000  666.000000   20.200000  396.225000   \n",
       "max    100.000000   12.126500   24.000000  711.000000   22.000000  396.900000   \n",
       "\n",
       "          low_inc  median_val  \n",
       "count  506.000000  506.000000  \n",
       "mean    12.653063   22.532806  \n",
       "std      7.141062    9.197104  \n",
       "min      1.730000    5.000000  \n",
       "25%      6.950000   17.025000  \n",
       "50%     11.360000   21.200000  \n",
       "75%     16.955000   25.000000  \n",
       "max     37.970000   50.000000  "
      ]
     },
     "execution_count": 1,
     "metadata": {},
     "output_type": "execute_result"
    }
   ],
   "source": [
    "# Load Boston Housing Data\n",
    "\n",
    "import pandas as pd\n",
    "import numpy as np\n",
    "\n",
    "# read in the file and assign headers\n",
    "headers = ['crime', 'zone_res','zone_ind', 'C_river', 'NOX', 'rooms', 'age', 'dist', 'hwy_acc', \n",
    "         'prop_tax', 'PT_ratio', 'AA_prop', 'low_inc', 'median_val' ]\n",
    "df = pd.read_csv('https://library.startlearninglabs.uw.edu/DATASCI420/Datasets/housing.csv', \n",
    "                 delim_whitespace=True, names=headers) \n",
    "\n",
    "x1 = df.iloc[:, 0:13]   # load features into X DF\n",
    "y1 = df.iloc[:, 13]     # Load target into Y DF\n",
    "df.describe()"
   ]
  },
  {
   "cell_type": "code",
   "execution_count": 2,
   "metadata": {},
   "outputs": [
    {
     "data": {
      "image/png": "[encoded data removed]",
      "text/plain": [
       "<Figure size 864x1080 with 15 Axes>"
      ]
     },
     "metadata": {
      "needs_background": "light"
     },
     "output_type": "display_data"
    }
   ],
   "source": [
    "from matplotlib import pyplot\n",
    "\n",
    "df.plot(kind='box', subplots=True, layout=(5,3), sharex=False, sharey=False, figsize=(12,15))\n",
    "pyplot.show()"
   ]
  },
  {
   "cell_type": "markdown",
   "metadata": {},
   "source": [
    "## Linear Algorithms for Regression "
   ]
  },
  {
   "cell_type": "markdown",
   "metadata": {},
   "source": [
    "### Linear Regression\n",
    "Assumes the following:\n",
    "* a normal distribution\n",
    "* all of the independent variables are relevant to the dependent variable\n",
    "* the independent variables are not highly correlated with one another (no co-linearity)"
   ]
  },
  {
   "cell_type": "code",
   "execution_count": 3,
   "metadata": {},
   "outputs": [
    {
     "name": "stderr",
     "output_type": "stream",
     "text": [
      "C:\\Users\\v-trugan\\Anaconda3\\lib\\site-packages\\sklearn\\model_selection\\_split.py:296: FutureWarning: Setting a random_state has no effect since shuffle is False. This will raise an error in 0.24. You should leave random_state to its default (None), or set shuffle=True.\n",
      "  FutureWarning\n"
     ]
    },
    {
     "name": "stdout",
     "output_type": "stream",
     "text": [
      "Negative MAE-> mean:-34.705 (std:45.574)\n"
     ]
    }
   ],
   "source": [
    "from sklearn.model_selection import KFold, cross_val_score \n",
    "from sklearn.linear_model import LinearRegression\n",
    "\n",
    "kfold = KFold(n_splits=10, random_state=7)  # 10 fold cross validation ; \n",
    "                                            # 7 random state is to assure consistent results\n",
    "\n",
    "lin_reg_results = cross_val_score(LinearRegression(), x1, y1, cv=kfold, scoring='neg_mean_squared_error') \n",
    "print(\"Negative MAE-> mean:%.3f (std:%.3f)\" % (lin_reg_results.mean(), lin_reg_results.std()))"
   ]
  },
  {
   "cell_type": "markdown",
   "metadata": {},
   "source": [
    "### Ridge Regression\n",
    "Ridge is an extension of linear regression where the loss function is modiﬁed to minimize the complexity of the model measured as the sum squared value of the coeﬃcient values (AKA L2-norm)."
   ]
  },
  {
   "cell_type": "code",
   "execution_count": 4,
   "metadata": {},
   "outputs": [
    {
     "name": "stdout",
     "output_type": "stream",
     "text": [
      "Negative MAE-> mean:-34.078 (std:45.900)\n"
     ]
    }
   ],
   "source": [
    "from sklearn.linear_model import Ridge \n",
    "rid_reg_results = cross_val_score(Ridge(), x1, y1, cv=kfold, scoring='neg_mean_squared_error')\n",
    "print(\"Negative MAE-> mean:%.3f (std:%.3f)\" % (rid_reg_results.mean(), rid_reg_results.std()))"
   ]
  },
  {
   "cell_type": "markdown",
   "metadata": {},
   "source": [
    "### LASSO Regression (Least Absolute Shrinkage and Selection Operator)\n",
    "Modified linear regression where the loss function is modified to minimize the complexity of the model as measured by sum of the absolute vale of the coefficients (AKA L1-norm). "
   ]
  },
  {
   "cell_type": "code",
   "execution_count": 5,
   "metadata": {},
   "outputs": [
    {
     "name": "stdout",
     "output_type": "stream",
     "text": [
      "Negative MAE-> mean:-34.464 (std:27.889)\n"
     ]
    }
   ],
   "source": [
    "from sklearn.linear_model import Lasso\n",
    "\n",
    "lasso_results = cross_val_score(Lasso(), x1, y1, cv=kfold, scoring='neg_mean_squared_error')\n",
    "print(\"Negative MAE-> mean:%.3f (std:%.3f)\" % (lasso_results.mean(), lasso_results.std()))"
   ]
  },
  {
   "cell_type": "markdown",
   "metadata": {},
   "source": [
    "### ElasticNet Regression\n",
    "Combines the properties of both LASSO and Ridge regressions--to minimize the complexity of a regression model--in both magnitude and regression coeficients--by penalizing the model using both L2 (sum of squared coefficient values) and L1-norm (sum absolute coefficient values). "
   ]
  },
  {
   "cell_type": "code",
   "execution_count": 6,
   "metadata": {},
   "outputs": [
    {
     "name": "stdout",
     "output_type": "stream",
     "text": [
      "Negative MAE-> mean:-31.165 (std:22.709)\n"
     ]
    }
   ],
   "source": [
    "from sklearn.linear_model import ElasticNet\n",
    "\n",
    "elast_results = cross_val_score(ElasticNet(), x1, y1, cv=kfold, scoring='neg_mean_squared_error')\n",
    "print(\"Negative MAE-> mean:%.3f (std:%.3f)\" % (elast_results.mean(), elast_results.std()))"
   ]
  },
  {
   "cell_type": "markdown",
   "metadata": {},
   "source": [
    "## Non-linear Regression Algorithms\n",
    "### kNN Regressor\n",
    "kNN regressors use a mean or median output variable is taken as the prediction of similarity to new inputs. The distance metric used is Minkowski by default, which is a generalization of both the Euclidean distance (used when all inputs have the same scale) and Manhattan distance (used when the scales of the input variables diﬀer)."
   ]
  },
  {
   "cell_type": "code",
   "execution_count": 7,
   "metadata": {},
   "outputs": [
    {
     "name": "stdout",
     "output_type": "stream",
     "text": [
      "Negative MAE-> mean:-107.287 (std:79.840)\n"
     ]
    }
   ],
   "source": [
    "from sklearn.neighbors import KNeighborsRegressor\n",
    "\n",
    "kNN_results = cross_val_score(KNeighborsRegressor(), x1, y1, cv=kfold, scoring='neg_mean_squared_error')\n",
    "print(\"Negative MAE-> mean:%.3f (std:%.3f)\" % (kNN_results.mean(), kNN_results.std()))"
   ]
  },
  {
   "cell_type": "markdown",
   "metadata": {},
   "source": [
    "### CART\n",
    "Like the decision tree classifier except for continuous variables"
   ]
  },
  {
   "cell_type": "code",
   "execution_count": 8,
   "metadata": {},
   "outputs": [
    {
     "name": "stdout",
     "output_type": "stream",
     "text": [
      "Negative MAE-> mean:-39.253 (std:32.089)\n"
     ]
    }
   ],
   "source": [
    "from sklearn.tree import DecisionTreeRegressor\n",
    "\n",
    "reg_tree_results = cross_val_score(DecisionTreeRegressor(), x1, y1, cv=kfold, scoring='neg_mean_squared_error')\n",
    "print(\"Negative MAE-> mean:%.3f (std:%.3f)\" % (reg_tree_results.mean(), reg_tree_results.std()))"
   ]
  },
  {
   "cell_type": "markdown",
   "metadata": {},
   "source": [
    "### SVR\n",
    "Like the Support Vector classifier except for continuous variables. "
   ]
  },
  {
   "cell_type": "code",
   "execution_count": 9,
   "metadata": {},
   "outputs": [
    {
     "name": "stdout",
     "output_type": "stream",
     "text": [
      "Negative MAE-> mean:-72.255 (std:61.961)\n"
     ]
    }
   ],
   "source": [
    "from sklearn.svm import SVR\n",
    "\n",
    "svr_results = cross_val_score(SVR(), x1, y1, cv=kfold, scoring='neg_mean_squared_error')\n",
    "print(\"Negative MAE-> mean:%.3f (std:%.3f)\" % (svr_results.mean(), svr_results.std()))"
   ]
  },
  {
   "cell_type": "code",
   "execution_count": 10,
   "metadata": {},
   "outputs": [
    {
     "name": "stdout",
     "output_type": "stream",
     "text": [
      "LinearNeg MAE-> mean:-34.705 (std:45.574)\n",
      "Ridge Neg MAE-> mean:-34.078 (std:45.900)\n",
      "LASSO Neg MAE-> mean:-34.464 (std:27.889)\n",
      "Elast Neg MAE-> mean:-31.165 (std:22.709)\n",
      "kNN   Neg MAE-> mean:-107.287 (std:79.840)\n",
      "CART  Neg MAE-> mean:-39.253 (std:32.089)\n",
      "SVR   Neg MAE-> mean:-72.255 (std:61.961)\n"
     ]
    }
   ],
   "source": [
    "print(\"LinearNeg MAE-> mean:%.3f (std:%.3f)\" % (lin_reg_results.mean(), lin_reg_results.std()))\n",
    "print(\"Ridge Neg MAE-> mean:%.3f (std:%.3f)\" % (rid_reg_results.mean(), rid_reg_results.std()))\n",
    "print(\"LASSO Neg MAE-> mean:%.3f (std:%.3f)\" % (lasso_results.mean(), lasso_results.std()))\n",
    "print(\"Elast Neg MAE-> mean:%.3f (std:%.3f)\" % (elast_results.mean(), elast_results.std()))\n",
    "print(\"kNN   Neg MAE-> mean:%.3f (std:%.3f)\" % (kNN_results.mean(), kNN_results.std()))\n",
    "print(\"CART  Neg MAE-> mean:%.3f (std:%.3f)\" % (reg_tree_results.mean(), reg_tree_results.std()))\n",
    "print(\"SVR   Neg MAE-> mean:%.3f (std:%.3f)\" % (svr_results.mean(), svr_results.std()))"
   ]
  },
  {
   "cell_type": "code",
   "execution_count": null,
   "metadata": {},
   "outputs": [],
   "source": []
  }
 ],
 "metadata": {
  "kernelspec": {
   "display_name": "Python 3",
   "language": "python",
   "name": "python3"
  },
  "language_info": {
   "codemirror_mode": {
    "name": "ipython",
    "version": 3
   },
   "file_extension": ".py",
   "mimetype": "text/x-python",
   "name": "python",
   "nbconvert_exporter": "python",
   "pygments_lexer": "ipython3",
   "version": "3.7.6"
  }
 },
 "nbformat": 4,
 "nbformat_minor": 2
}
