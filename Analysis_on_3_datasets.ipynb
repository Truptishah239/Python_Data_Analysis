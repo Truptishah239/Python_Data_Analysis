{
 "cells": [
  {
   "cell_type": "code",
   "execution_count": 54,
   "metadata": {},
   "outputs": [],
   "source": [
    "import pandas as pd"
   ]
  },
  {
   "cell_type": "code",
   "execution_count": 55,
   "metadata": {},
   "outputs": [
    {
     "data": {
      "text/html": [
       "<div>\n",
       "<style scoped>\n",
       "    .dataframe tbody tr th:only-of-type {\n",
       "        vertical-align: middle;\n",
       "    }\n",
       "\n",
       "    .dataframe tbody tr th {\n",
       "        vertical-align: top;\n",
       "    }\n",
       "\n",
       "    .dataframe thead th {\n",
       "        text-align: right;\n",
       "    }\n",
       "</style>\n",
       "<table border=\"1\" class=\"dataframe\">\n",
       "  <thead>\n",
       "    <tr style=\"text-align: right;\">\n",
       "      <th></th>\n",
       "      <th>Id</th>\n",
       "      <th>Name</th>\n",
       "      <th>Year</th>\n",
       "      <th>Gender</th>\n",
       "      <th>Count</th>\n",
       "    </tr>\n",
       "  </thead>\n",
       "  <tbody>\n",
       "    <tr>\n",
       "      <th>0</th>\n",
       "      <td>1</td>\n",
       "      <td>Mary</td>\n",
       "      <td>1880</td>\n",
       "      <td>F</td>\n",
       "      <td>7065</td>\n",
       "    </tr>\n",
       "    <tr>\n",
       "      <th>1</th>\n",
       "      <td>2</td>\n",
       "      <td>Anna</td>\n",
       "      <td>1880</td>\n",
       "      <td>F</td>\n",
       "      <td>2604</td>\n",
       "    </tr>\n",
       "    <tr>\n",
       "      <th>2</th>\n",
       "      <td>3</td>\n",
       "      <td>Emma</td>\n",
       "      <td>1880</td>\n",
       "      <td>F</td>\n",
       "      <td>2003</td>\n",
       "    </tr>\n",
       "    <tr>\n",
       "      <th>3</th>\n",
       "      <td>4</td>\n",
       "      <td>Elizabeth</td>\n",
       "      <td>1880</td>\n",
       "      <td>F</td>\n",
       "      <td>1939</td>\n",
       "    </tr>\n",
       "    <tr>\n",
       "      <th>4</th>\n",
       "      <td>5</td>\n",
       "      <td>Minnie</td>\n",
       "      <td>1880</td>\n",
       "      <td>F</td>\n",
       "      <td>1746</td>\n",
       "    </tr>\n",
       "  </tbody>\n",
       "</table>\n",
       "</div>"
      ],
      "text/plain": [
       "   Id       Name  Year Gender  Count\n",
       "0   1       Mary  1880      F   7065\n",
       "1   2       Anna  1880      F   2604\n",
       "2   3       Emma  1880      F   2003\n",
       "3   4  Elizabeth  1880      F   1939\n",
       "4   5     Minnie  1880      F   1746"
      ]
     },
     "execution_count": 55,
     "metadata": {},
     "output_type": "execute_result"
    }
   ],
   "source": [
    "us_baby_names = pd.read_csv(r\"C:\\Users\\v-trugan\\OneDrive - Microsoft\\Desktop\\TruptiFolder2020\\Data_Science\\Project\\Baby_Names\\us_baby_names.csv\")\n",
    "us_baby_names.head()"
   ]
  },
  {
   "cell_type": "code",
   "execution_count": 56,
   "metadata": {},
   "outputs": [
    {
     "data": {
      "text/plain": [
       "(1825433, 5)"
      ]
     },
     "execution_count": 56,
     "metadata": {},
     "output_type": "execute_result"
    }
   ],
   "source": [
    "us_baby_names.shape"
   ]
  },
  {
   "cell_type": "code",
   "execution_count": 57,
   "metadata": {},
   "outputs": [
    {
     "data": {
      "text/plain": [
       "Id         int64\n",
       "Name      object\n",
       "Year       int64\n",
       "Gender    object\n",
       "Count      int64\n",
       "dtype: object"
      ]
     },
     "execution_count": 57,
     "metadata": {},
     "output_type": "execute_result"
    }
   ],
   "source": [
    "us_baby_names.dtypes"
   ]
  },
  {
   "cell_type": "code",
   "execution_count": 58,
   "metadata": {},
   "outputs": [
    {
     "data": {
      "text/plain": [
       "['Id', 'Name', 'Year', 'Gender', 'Count']"
      ]
     },
     "execution_count": 58,
     "metadata": {},
     "output_type": "execute_result"
    }
   ],
   "source": [
    "us_baby_names.columns.tolist()"
   ]
  },
  {
   "cell_type": "code",
   "execution_count": 59,
   "metadata": {},
   "outputs": [
    {
     "data": {
      "text/plain": [
       "<bound method DataFrame.info of               Id       Name  Year Gender  Count\n",
       "0              1       Mary  1880      F   7065\n",
       "1              2       Anna  1880      F   2604\n",
       "2              3       Emma  1880      F   2003\n",
       "3              4  Elizabeth  1880      F   1939\n",
       "4              5     Minnie  1880      F   1746\n",
       "...          ...        ...   ...    ...    ...\n",
       "1825428  1825429     Zykeem  2014      M      5\n",
       "1825429  1825430     Zymeer  2014      M      5\n",
       "1825430  1825431    Zymiere  2014      M      5\n",
       "1825431  1825432      Zyran  2014      M      5\n",
       "1825432  1825433      Zyrin  2014      M      5\n",
       "\n",
       "[1825433 rows x 5 columns]>"
      ]
     },
     "execution_count": 59,
     "metadata": {},
     "output_type": "execute_result"
    }
   ],
   "source": [
    "us_baby_names.info"
   ]
  },
  {
   "cell_type": "code",
   "execution_count": 60,
   "metadata": {},
   "outputs": [
    {
     "data": {
      "text/plain": [
       "<bound method NDFrame.describe of               Id       Name  Year Gender  Count\n",
       "0              1       Mary  1880      F   7065\n",
       "1              2       Anna  1880      F   2604\n",
       "2              3       Emma  1880      F   2003\n",
       "3              4  Elizabeth  1880      F   1939\n",
       "4              5     Minnie  1880      F   1746\n",
       "...          ...        ...   ...    ...    ...\n",
       "1825428  1825429     Zykeem  2014      M      5\n",
       "1825429  1825430     Zymeer  2014      M      5\n",
       "1825430  1825431    Zymiere  2014      M      5\n",
       "1825431  1825432      Zyran  2014      M      5\n",
       "1825432  1825433      Zyrin  2014      M      5\n",
       "\n",
       "[1825433 rows x 5 columns]>"
      ]
     },
     "execution_count": 60,
     "metadata": {},
     "output_type": "execute_result"
    }
   ],
   "source": [
    "us_baby_names.describe"
   ]
  },
  {
   "cell_type": "markdown",
   "metadata": {},
   "source": [
    "### Most popular babies name in 2014"
   ]
  },
  {
   "cell_type": "code",
   "execution_count": 61,
   "metadata": {},
   "outputs": [],
   "source": [
    "us_baby_names_2014 = us_baby_names.loc[us_baby_names['Year'] == 2014,:]"
   ]
  },
  {
   "cell_type": "code",
   "execution_count": 62,
   "metadata": {},
   "outputs": [
    {
     "data": {
      "text/plain": [
       "33044"
      ]
     },
     "execution_count": 62,
     "metadata": {},
     "output_type": "execute_result"
    }
   ],
   "source": [
    "us_baby_names_2014.value_counts().sum()"
   ]
  },
  {
   "cell_type": "code",
   "execution_count": 63,
   "metadata": {},
   "outputs": [],
   "source": [
    "sorted_baby_names_2014 = us_baby_names_2014.sort_values('Count', ascending = False)"
   ]
  },
  {
   "cell_type": "code",
   "execution_count": 64,
   "metadata": {},
   "outputs": [
    {
     "data": {
      "text/html": [
       "<div>\n",
       "<style scoped>\n",
       "    .dataframe tbody tr th:only-of-type {\n",
       "        vertical-align: middle;\n",
       "    }\n",
       "\n",
       "    .dataframe tbody tr th {\n",
       "        vertical-align: top;\n",
       "    }\n",
       "\n",
       "    .dataframe thead th {\n",
       "        text-align: right;\n",
       "    }\n",
       "</style>\n",
       "<table border=\"1\" class=\"dataframe\">\n",
       "  <thead>\n",
       "    <tr style=\"text-align: right;\">\n",
       "      <th></th>\n",
       "      <th>Id</th>\n",
       "      <th>Name</th>\n",
       "      <th>Year</th>\n",
       "      <th>Gender</th>\n",
       "      <th>Count</th>\n",
       "    </tr>\n",
       "  </thead>\n",
       "  <tbody>\n",
       "    <tr>\n",
       "      <th>1792389</th>\n",
       "      <td>1792390</td>\n",
       "      <td>Emma</td>\n",
       "      <td>2014</td>\n",
       "      <td>F</td>\n",
       "      <td>20799</td>\n",
       "    </tr>\n",
       "    <tr>\n",
       "      <th>1792390</th>\n",
       "      <td>1792391</td>\n",
       "      <td>Olivia</td>\n",
       "      <td>2014</td>\n",
       "      <td>F</td>\n",
       "      <td>19674</td>\n",
       "    </tr>\n",
       "    <tr>\n",
       "      <th>1811456</th>\n",
       "      <td>1811457</td>\n",
       "      <td>Noah</td>\n",
       "      <td>2014</td>\n",
       "      <td>M</td>\n",
       "      <td>19144</td>\n",
       "    </tr>\n",
       "    <tr>\n",
       "      <th>1792391</th>\n",
       "      <td>1792392</td>\n",
       "      <td>Sophia</td>\n",
       "      <td>2014</td>\n",
       "      <td>F</td>\n",
       "      <td>18490</td>\n",
       "    </tr>\n",
       "    <tr>\n",
       "      <th>1811457</th>\n",
       "      <td>1811458</td>\n",
       "      <td>Liam</td>\n",
       "      <td>2014</td>\n",
       "      <td>M</td>\n",
       "      <td>18342</td>\n",
       "    </tr>\n",
       "  </tbody>\n",
       "</table>\n",
       "</div>"
      ],
      "text/plain": [
       "              Id    Name  Year Gender  Count\n",
       "1792389  1792390    Emma  2014      F  20799\n",
       "1792390  1792391  Olivia  2014      F  19674\n",
       "1811456  1811457    Noah  2014      M  19144\n",
       "1792391  1792392  Sophia  2014      F  18490\n",
       "1811457  1811458    Liam  2014      M  18342"
      ]
     },
     "execution_count": 64,
     "metadata": {},
     "output_type": "execute_result"
    }
   ],
   "source": [
    "sorted_baby_names_2014.iloc[0:5]"
   ]
  },
  {
   "cell_type": "code",
   "execution_count": 65,
   "metadata": {},
   "outputs": [
    {
     "data": {
      "text/html": [
       "<div>\n",
       "<style scoped>\n",
       "    .dataframe tbody tr th:only-of-type {\n",
       "        vertical-align: middle;\n",
       "    }\n",
       "\n",
       "    .dataframe tbody tr th {\n",
       "        vertical-align: top;\n",
       "    }\n",
       "\n",
       "    .dataframe thead th {\n",
       "        text-align: right;\n",
       "    }\n",
       "</style>\n",
       "<table border=\"1\" class=\"dataframe\">\n",
       "  <thead>\n",
       "    <tr style=\"text-align: right;\">\n",
       "      <th></th>\n",
       "      <th>Id</th>\n",
       "      <th>Name</th>\n",
       "      <th>Year</th>\n",
       "      <th>Gender</th>\n",
       "      <th>Count</th>\n",
       "    </tr>\n",
       "  </thead>\n",
       "  <tbody>\n",
       "    <tr>\n",
       "      <th>1792389</th>\n",
       "      <td>1792390</td>\n",
       "      <td>Emma</td>\n",
       "      <td>2014</td>\n",
       "      <td>F</td>\n",
       "      <td>20799</td>\n",
       "    </tr>\n",
       "    <tr>\n",
       "      <th>1792390</th>\n",
       "      <td>1792391</td>\n",
       "      <td>Olivia</td>\n",
       "      <td>2014</td>\n",
       "      <td>F</td>\n",
       "      <td>19674</td>\n",
       "    </tr>\n",
       "    <tr>\n",
       "      <th>1811456</th>\n",
       "      <td>1811457</td>\n",
       "      <td>Noah</td>\n",
       "      <td>2014</td>\n",
       "      <td>M</td>\n",
       "      <td>19144</td>\n",
       "    </tr>\n",
       "    <tr>\n",
       "      <th>1792391</th>\n",
       "      <td>1792392</td>\n",
       "      <td>Sophia</td>\n",
       "      <td>2014</td>\n",
       "      <td>F</td>\n",
       "      <td>18490</td>\n",
       "    </tr>\n",
       "    <tr>\n",
       "      <th>1811457</th>\n",
       "      <td>1811458</td>\n",
       "      <td>Liam</td>\n",
       "      <td>2014</td>\n",
       "      <td>M</td>\n",
       "      <td>18342</td>\n",
       "    </tr>\n",
       "  </tbody>\n",
       "</table>\n",
       "</div>"
      ],
      "text/plain": [
       "              Id    Name  Year Gender  Count\n",
       "1792389  1792390    Emma  2014      F  20799\n",
       "1792390  1792391  Olivia  2014      F  19674\n",
       "1811456  1811457    Noah  2014      M  19144\n",
       "1792391  1792392  Sophia  2014      F  18490\n",
       "1811457  1811458    Liam  2014      M  18342"
      ]
     },
     "execution_count": 65,
     "metadata": {},
     "output_type": "execute_result"
    }
   ],
   "source": [
    "sorted_baby_names_2014.head()"
   ]
  },
  {
   "cell_type": "markdown",
   "metadata": {},
   "source": [
    "### Most popular babies name in 2014 by Gender"
   ]
  },
  {
   "cell_type": "code",
   "execution_count": 66,
   "metadata": {},
   "outputs": [
    {
     "data": {
      "text/plain": [
       "F    19067\n",
       "M    13977\n",
       "Name: Gender, dtype: int64"
      ]
     },
     "execution_count": 66,
     "metadata": {},
     "output_type": "execute_result"
    }
   ],
   "source": [
    "sorted_baby_names_2014['Gender'].value_counts()"
   ]
  },
  {
   "cell_type": "code",
   "execution_count": 67,
   "metadata": {},
   "outputs": [
    {
     "data": {
      "text/html": [
       "<div>\n",
       "<style scoped>\n",
       "    .dataframe tbody tr th:only-of-type {\n",
       "        vertical-align: middle;\n",
       "    }\n",
       "\n",
       "    .dataframe tbody tr th {\n",
       "        vertical-align: top;\n",
       "    }\n",
       "\n",
       "    .dataframe thead th {\n",
       "        text-align: right;\n",
       "    }\n",
       "</style>\n",
       "<table border=\"1\" class=\"dataframe\">\n",
       "  <thead>\n",
       "    <tr style=\"text-align: right;\">\n",
       "      <th></th>\n",
       "      <th>Id</th>\n",
       "      <th>Name</th>\n",
       "      <th>Year</th>\n",
       "      <th>Gender</th>\n",
       "      <th>Count</th>\n",
       "    </tr>\n",
       "  </thead>\n",
       "  <tbody>\n",
       "    <tr>\n",
       "      <th>1792389</th>\n",
       "      <td>1792390</td>\n",
       "      <td>Emma</td>\n",
       "      <td>2014</td>\n",
       "      <td>F</td>\n",
       "      <td>20799</td>\n",
       "    </tr>\n",
       "    <tr>\n",
       "      <th>1792390</th>\n",
       "      <td>1792391</td>\n",
       "      <td>Olivia</td>\n",
       "      <td>2014</td>\n",
       "      <td>F</td>\n",
       "      <td>19674</td>\n",
       "    </tr>\n",
       "    <tr>\n",
       "      <th>1792391</th>\n",
       "      <td>1792392</td>\n",
       "      <td>Sophia</td>\n",
       "      <td>2014</td>\n",
       "      <td>F</td>\n",
       "      <td>18490</td>\n",
       "    </tr>\n",
       "    <tr>\n",
       "      <th>1792392</th>\n",
       "      <td>1792393</td>\n",
       "      <td>Isabella</td>\n",
       "      <td>2014</td>\n",
       "      <td>F</td>\n",
       "      <td>16950</td>\n",
       "    </tr>\n",
       "    <tr>\n",
       "      <th>1792393</th>\n",
       "      <td>1792394</td>\n",
       "      <td>Ava</td>\n",
       "      <td>2014</td>\n",
       "      <td>F</td>\n",
       "      <td>15586</td>\n",
       "    </tr>\n",
       "  </tbody>\n",
       "</table>\n",
       "</div>"
      ],
      "text/plain": [
       "              Id      Name  Year Gender  Count\n",
       "1792389  1792390      Emma  2014      F  20799\n",
       "1792390  1792391    Olivia  2014      F  19674\n",
       "1792391  1792392    Sophia  2014      F  18490\n",
       "1792392  1792393  Isabella  2014      F  16950\n",
       "1792393  1792394       Ava  2014      F  15586"
      ]
     },
     "execution_count": 67,
     "metadata": {},
     "output_type": "execute_result"
    }
   ],
   "source": [
    "Female_Name = sorted_baby_names_2014.loc[sorted_baby_names_2014['Gender']=='F',:]\n",
    "Female_Name.iloc[0:5]"
   ]
  },
  {
   "cell_type": "code",
   "execution_count": 68,
   "metadata": {},
   "outputs": [
    {
     "data": {
      "text/html": [
       "<div>\n",
       "<style scoped>\n",
       "    .dataframe tbody tr th:only-of-type {\n",
       "        vertical-align: middle;\n",
       "    }\n",
       "\n",
       "    .dataframe tbody tr th {\n",
       "        vertical-align: top;\n",
       "    }\n",
       "\n",
       "    .dataframe thead th {\n",
       "        text-align: right;\n",
       "    }\n",
       "</style>\n",
       "<table border=\"1\" class=\"dataframe\">\n",
       "  <thead>\n",
       "    <tr style=\"text-align: right;\">\n",
       "      <th></th>\n",
       "      <th>Id</th>\n",
       "      <th>Name</th>\n",
       "      <th>Year</th>\n",
       "      <th>Gender</th>\n",
       "      <th>Count</th>\n",
       "    </tr>\n",
       "  </thead>\n",
       "  <tbody>\n",
       "    <tr>\n",
       "      <th>1811456</th>\n",
       "      <td>1811457</td>\n",
       "      <td>Noah</td>\n",
       "      <td>2014</td>\n",
       "      <td>M</td>\n",
       "      <td>19144</td>\n",
       "    </tr>\n",
       "    <tr>\n",
       "      <th>1811457</th>\n",
       "      <td>1811458</td>\n",
       "      <td>Liam</td>\n",
       "      <td>2014</td>\n",
       "      <td>M</td>\n",
       "      <td>18342</td>\n",
       "    </tr>\n",
       "    <tr>\n",
       "      <th>1811458</th>\n",
       "      <td>1811459</td>\n",
       "      <td>Mason</td>\n",
       "      <td>2014</td>\n",
       "      <td>M</td>\n",
       "      <td>17092</td>\n",
       "    </tr>\n",
       "    <tr>\n",
       "      <th>1811459</th>\n",
       "      <td>1811460</td>\n",
       "      <td>Jacob</td>\n",
       "      <td>2014</td>\n",
       "      <td>M</td>\n",
       "      <td>16712</td>\n",
       "    </tr>\n",
       "    <tr>\n",
       "      <th>1811460</th>\n",
       "      <td>1811461</td>\n",
       "      <td>William</td>\n",
       "      <td>2014</td>\n",
       "      <td>M</td>\n",
       "      <td>16687</td>\n",
       "    </tr>\n",
       "  </tbody>\n",
       "</table>\n",
       "</div>"
      ],
      "text/plain": [
       "              Id     Name  Year Gender  Count\n",
       "1811456  1811457     Noah  2014      M  19144\n",
       "1811457  1811458     Liam  2014      M  18342\n",
       "1811458  1811459    Mason  2014      M  17092\n",
       "1811459  1811460    Jacob  2014      M  16712\n",
       "1811460  1811461  William  2014      M  16687"
      ]
     },
     "execution_count": 68,
     "metadata": {},
     "output_type": "execute_result"
    }
   ],
   "source": [
    "male_Name = sorted_baby_names_2014.loc[sorted_baby_names_2014['Gender']=='M',:]\n",
    "male_Name.iloc[0:5]"
   ]
  },
  {
   "cell_type": "markdown",
   "metadata": {},
   "source": [
    "### Collecting new Data \"state_baby_names:"
   ]
  },
  {
   "cell_type": "code",
   "execution_count": 69,
   "metadata": {},
   "outputs": [
    {
     "data": {
      "text/html": [
       "<div>\n",
       "<style scoped>\n",
       "    .dataframe tbody tr th:only-of-type {\n",
       "        vertical-align: middle;\n",
       "    }\n",
       "\n",
       "    .dataframe tbody tr th {\n",
       "        vertical-align: top;\n",
       "    }\n",
       "\n",
       "    .dataframe thead th {\n",
       "        text-align: right;\n",
       "    }\n",
       "</style>\n",
       "<table border=\"1\" class=\"dataframe\">\n",
       "  <thead>\n",
       "    <tr style=\"text-align: right;\">\n",
       "      <th></th>\n",
       "      <th>Id</th>\n",
       "      <th>Name</th>\n",
       "      <th>Year</th>\n",
       "      <th>Gender</th>\n",
       "      <th>State</th>\n",
       "      <th>Count</th>\n",
       "    </tr>\n",
       "  </thead>\n",
       "  <tbody>\n",
       "    <tr>\n",
       "      <th>0</th>\n",
       "      <td>1</td>\n",
       "      <td>Mary</td>\n",
       "      <td>1910</td>\n",
       "      <td>F</td>\n",
       "      <td>AK</td>\n",
       "      <td>14</td>\n",
       "    </tr>\n",
       "    <tr>\n",
       "      <th>1</th>\n",
       "      <td>2</td>\n",
       "      <td>Annie</td>\n",
       "      <td>1910</td>\n",
       "      <td>F</td>\n",
       "      <td>AK</td>\n",
       "      <td>12</td>\n",
       "    </tr>\n",
       "    <tr>\n",
       "      <th>2</th>\n",
       "      <td>3</td>\n",
       "      <td>Anna</td>\n",
       "      <td>1910</td>\n",
       "      <td>F</td>\n",
       "      <td>AK</td>\n",
       "      <td>10</td>\n",
       "    </tr>\n",
       "    <tr>\n",
       "      <th>3</th>\n",
       "      <td>4</td>\n",
       "      <td>Margaret</td>\n",
       "      <td>1910</td>\n",
       "      <td>F</td>\n",
       "      <td>AK</td>\n",
       "      <td>8</td>\n",
       "    </tr>\n",
       "    <tr>\n",
       "      <th>4</th>\n",
       "      <td>5</td>\n",
       "      <td>Helen</td>\n",
       "      <td>1910</td>\n",
       "      <td>F</td>\n",
       "      <td>AK</td>\n",
       "      <td>7</td>\n",
       "    </tr>\n",
       "  </tbody>\n",
       "</table>\n",
       "</div>"
      ],
      "text/plain": [
       "   Id      Name  Year Gender State  Count\n",
       "0   1      Mary  1910      F    AK     14\n",
       "1   2     Annie  1910      F    AK     12\n",
       "2   3      Anna  1910      F    AK     10\n",
       "3   4  Margaret  1910      F    AK      8\n",
       "4   5     Helen  1910      F    AK      7"
      ]
     },
     "execution_count": 69,
     "metadata": {},
     "output_type": "execute_result"
    }
   ],
   "source": [
    "state_baby_names = pd.read_csv(r\"C:\\Users\\v-trugan\\OneDrive - Microsoft\\Desktop\\TruptiFolder2020\\Data_Science\\Project\\Baby_Names\\state_baby_names.csv\")\n",
    "state_baby_names.head()"
   ]
  },
  {
   "cell_type": "code",
   "execution_count": 70,
   "metadata": {},
   "outputs": [],
   "source": [
    "def popular(s):\n",
    "    return s.iloc[0]"
   ]
  },
  {
   "cell_type": "code",
   "execution_count": 71,
   "metadata": {},
   "outputs": [],
   "source": [
    "CA_Group = state_baby_names.sort_values('Count',ascending = False).groupby(['Year','Gender']).agg(popular)"
   ]
  },
  {
   "cell_type": "code",
   "execution_count": 72,
   "metadata": {},
   "outputs": [
    {
     "data": {
      "text/html": [
       "<div>\n",
       "<style scoped>\n",
       "    .dataframe tbody tr th:only-of-type {\n",
       "        vertical-align: middle;\n",
       "    }\n",
       "\n",
       "    .dataframe tbody tr th {\n",
       "        vertical-align: top;\n",
       "    }\n",
       "\n",
       "    .dataframe thead th {\n",
       "        text-align: right;\n",
       "    }\n",
       "</style>\n",
       "<table border=\"1\" class=\"dataframe\">\n",
       "  <thead>\n",
       "    <tr style=\"text-align: right;\">\n",
       "      <th></th>\n",
       "      <th></th>\n",
       "      <th>Id</th>\n",
       "      <th>Name</th>\n",
       "      <th>State</th>\n",
       "      <th>Count</th>\n",
       "    </tr>\n",
       "    <tr>\n",
       "      <th>Year</th>\n",
       "      <th>Gender</th>\n",
       "      <th></th>\n",
       "      <th></th>\n",
       "      <th></th>\n",
       "      <th></th>\n",
       "    </tr>\n",
       "  </thead>\n",
       "  <tbody>\n",
       "    <tr>\n",
       "      <th rowspan=\"2\" valign=\"top\">1910</th>\n",
       "      <th>F</th>\n",
       "      <td>4242585</td>\n",
       "      <td>Mary</td>\n",
       "      <td>PA</td>\n",
       "      <td>2913</td>\n",
       "    </tr>\n",
       "    <tr>\n",
       "      <th>M</th>\n",
       "      <td>4349769</td>\n",
       "      <td>John</td>\n",
       "      <td>PA</td>\n",
       "      <td>1326</td>\n",
       "    </tr>\n",
       "    <tr>\n",
       "      <th rowspan=\"2\" valign=\"top\">1911</th>\n",
       "      <th>F</th>\n",
       "      <td>4242992</td>\n",
       "      <td>Mary</td>\n",
       "      <td>PA</td>\n",
       "      <td>3188</td>\n",
       "    </tr>\n",
       "    <tr>\n",
       "      <th>M</th>\n",
       "      <td>4350022</td>\n",
       "      <td>John</td>\n",
       "      <td>PA</td>\n",
       "      <td>1672</td>\n",
       "    </tr>\n",
       "    <tr>\n",
       "      <th>1912</th>\n",
       "      <th>F</th>\n",
       "      <td>4243423</td>\n",
       "      <td>Mary</td>\n",
       "      <td>PA</td>\n",
       "      <td>4106</td>\n",
       "    </tr>\n",
       "    <tr>\n",
       "      <th>...</th>\n",
       "      <th>...</th>\n",
       "      <td>...</td>\n",
       "      <td>...</td>\n",
       "      <td>...</td>\n",
       "      <td>...</td>\n",
       "    </tr>\n",
       "    <tr>\n",
       "      <th>2012</th>\n",
       "      <th>M</th>\n",
       "      <td>701517</td>\n",
       "      <td>Jacob</td>\n",
       "      <td>CA</td>\n",
       "      <td>2971</td>\n",
       "    </tr>\n",
       "    <tr>\n",
       "      <th rowspan=\"2\" valign=\"top\">2013</th>\n",
       "      <th>F</th>\n",
       "      <td>557545</td>\n",
       "      <td>Sophia</td>\n",
       "      <td>CA</td>\n",
       "      <td>3451</td>\n",
       "    </tr>\n",
       "    <tr>\n",
       "      <th>M</th>\n",
       "      <td>704421</td>\n",
       "      <td>Jacob</td>\n",
       "      <td>CA</td>\n",
       "      <td>2879</td>\n",
       "    </tr>\n",
       "    <tr>\n",
       "      <th rowspan=\"2\" valign=\"top\">2014</th>\n",
       "      <th>F</th>\n",
       "      <td>561496</td>\n",
       "      <td>Sophia</td>\n",
       "      <td>CA</td>\n",
       "      <td>3162</td>\n",
       "    </tr>\n",
       "    <tr>\n",
       "      <th>M</th>\n",
       "      <td>707312</td>\n",
       "      <td>Noah</td>\n",
       "      <td>CA</td>\n",
       "      <td>2761</td>\n",
       "    </tr>\n",
       "  </tbody>\n",
       "</table>\n",
       "<p>210 rows × 4 columns</p>\n",
       "</div>"
      ],
      "text/plain": [
       "                  Id    Name State  Count\n",
       "Year Gender                              \n",
       "1910 F       4242585    Mary    PA   2913\n",
       "     M       4349769    John    PA   1326\n",
       "1911 F       4242992    Mary    PA   3188\n",
       "     M       4350022    John    PA   1672\n",
       "1912 F       4243423    Mary    PA   4106\n",
       "...              ...     ...   ...    ...\n",
       "2012 M        701517   Jacob    CA   2971\n",
       "2013 F        557545  Sophia    CA   3451\n",
       "     M        704421   Jacob    CA   2879\n",
       "2014 F        561496  Sophia    CA   3162\n",
       "     M        707312    Noah    CA   2761\n",
       "\n",
       "[210 rows x 4 columns]"
      ]
     },
     "execution_count": 72,
     "metadata": {},
     "output_type": "execute_result"
    }
   ],
   "source": [
    "CA_Group"
   ]
  },
  {
   "cell_type": "markdown",
   "metadata": {},
   "source": [
    "### Display specific name"
   ]
  },
  {
   "cell_type": "code",
   "execution_count": 76,
   "metadata": {},
   "outputs": [
    {
     "data": {
      "text/html": [
       "<div>\n",
       "<style scoped>\n",
       "    .dataframe tbody tr th:only-of-type {\n",
       "        vertical-align: middle;\n",
       "    }\n",
       "\n",
       "    .dataframe tbody tr th {\n",
       "        vertical-align: top;\n",
       "    }\n",
       "\n",
       "    .dataframe thead th {\n",
       "        text-align: right;\n",
       "    }\n",
       "</style>\n",
       "<table border=\"1\" class=\"dataframe\">\n",
       "  <thead>\n",
       "    <tr style=\"text-align: right;\">\n",
       "      <th></th>\n",
       "      <th>Id</th>\n",
       "      <th>Name</th>\n",
       "      <th>Year</th>\n",
       "      <th>Gender</th>\n",
       "      <th>Count</th>\n",
       "    </tr>\n",
       "  </thead>\n",
       "  <tbody>\n",
       "    <tr>\n",
       "      <th>501223</th>\n",
       "      <td>501224</td>\n",
       "      <td>Garret</td>\n",
       "      <td>1953</td>\n",
       "      <td>M</td>\n",
       "      <td>30</td>\n",
       "    </tr>\n",
       "    <tr>\n",
       "      <th>520094</th>\n",
       "      <td>520095</td>\n",
       "      <td>Kyong</td>\n",
       "      <td>1955</td>\n",
       "      <td>F</td>\n",
       "      <td>7</td>\n",
       "    </tr>\n",
       "  </tbody>\n",
       "</table>\n",
       "</div>"
      ],
      "text/plain": [
       "            Id    Name  Year Gender  Count\n",
       "501223  501224  Garret  1953      M     30\n",
       "520094  520095   Kyong  1955      F      7"
      ]
     },
     "execution_count": 76,
     "metadata": {},
     "output_type": "execute_result"
    }
   ],
   "source": [
    "Specific_Name = us_baby_names.loc[state_baby_names['Name'] == \"Lavanya\",:]\n",
    "Specific_Name.head()"
   ]
  },
  {
   "cell_type": "code",
   "execution_count": 74,
   "metadata": {},
   "outputs": [
    {
     "data": {
      "text/plain": [
       "<AxesSubplot:ylabel='Year'>"
      ]
     },
     "execution_count": 74,
     "metadata": {},
     "output_type": "execute_result"
    },
    {
     "data": {
      "image/png": "[encoded data removed]",
      "text/plain": [
       "<Figure size 432x288 with 1 Axes>"
      ]
     },
     "metadata": {
      "needs_background": "light"
     },
     "output_type": "display_data"
    }
   ],
   "source": [
    "Specific_Name.plot.barh(x ='Year', y = 'Count')"
   ]
  },
  {
   "attachments": {
    "image.png": {
     "image/png": "[encoded data removed]"
    }
   },
   "cell_type": "markdown",
   "metadata": {},
   "source": [
    "![image.png](attachment:image.png)"
   ]
  },
  {
   "cell_type": "markdown",
   "metadata": {},
   "source": [
    "##### Exploratory Data Analysis: \n",
    "visualize, transform data to pick up the pattern, issues that is interetsed in data. \n",
    "\n",
    "\n",
    "conducting EDA :\n",
    "1. Avoid making assumptions\n",
    "2. Examine data types\n",
    "3. Examine key properties\n",
    "\n",
    "\n",
    "Types of data:\n",
    "1.  Nominal data - has no inherent order \n",
    "2.  Ordinal data - falls into ordered categories\n",
    "3.  Numerical Data\n",
    "\n",
    "EDA involves determining the key property of the data you have in front of you. \n",
    "Main properties:\n",
    "1. Granularity :-\n",
    "a. Each record represent \n",
    "b. how fine or course is data\n",
    "2. Scope :- \n",
    "a. what does data describe \n",
    "b. does the data covers the topic you are intereted in?\n",
    "3. Temporality :- \n",
    "a.Time to collect the data\n",
    "4. Faithfulness:- \n",
    "a. Hoe real is the data\n",
    "\n",
    "\n"
   ]
  },
  {
   "cell_type": "markdown",
   "metadata": {},
   "source": [
    "##### Data Cleaning\n",
    "Detecting and fixing corrupt or inaccurate records from a record set.\n",
    "\n",
    "Address: \n",
    "1. Missing value\n",
    "2. Formatting\n",
    "3. Structure of the data\n",
    "4. Extracting data from complex values\n",
    "5. Unit conversion \n",
    "6. Interpretation of magnitudes\n",
    "\n",
    "where do we need it:\n",
    "1. Misspellings \n",
    "2. Duplicate rows\n",
    "3. Inconsistent formats\n",
    "4. Unspecified Units\n",
    "\n"
   ]
  },
  {
   "cell_type": "code",
   "execution_count": 77,
   "metadata": {},
   "outputs": [],
   "source": [
    "df = pd.read_csv(r\"C:\\Users\\v-trugan\\OneDrive - Microsoft\\Desktop\\TruptiFolder2020\\Data_Science\\Project\\Baby_Names\\crime_boston.csv\")"
   ]
  },
  {
   "cell_type": "code",
   "execution_count": 78,
   "metadata": {},
   "outputs": [
    {
     "data": {
      "text/html": [
       "<div>\n",
       "<style scoped>\n",
       "    .dataframe tbody tr th:only-of-type {\n",
       "        vertical-align: middle;\n",
       "    }\n",
       "\n",
       "    .dataframe tbody tr th {\n",
       "        vertical-align: top;\n",
       "    }\n",
       "\n",
       "    .dataframe thead th {\n",
       "        text-align: right;\n",
       "    }\n",
       "</style>\n",
       "<table border=\"1\" class=\"dataframe\">\n",
       "  <thead>\n",
       "    <tr style=\"text-align: right;\">\n",
       "      <th></th>\n",
       "      <th>INCIDENT_NUMBER</th>\n",
       "      <th>OFFENSE_CODE</th>\n",
       "      <th>OFFENSE_CODE_GROUP</th>\n",
       "      <th>OFFENSE_DESCRIPTION</th>\n",
       "      <th>DISTRICT</th>\n",
       "      <th>REPORTING_AREA</th>\n",
       "      <th>SHOOTING</th>\n",
       "      <th>OCCURRED_ON_DATE</th>\n",
       "      <th>YEAR</th>\n",
       "      <th>MONTH</th>\n",
       "      <th>DAY_OF_WEEK</th>\n",
       "      <th>HOUR</th>\n",
       "      <th>UCR_PART</th>\n",
       "      <th>STREET</th>\n",
       "      <th>Lat</th>\n",
       "      <th>Long</th>\n",
       "      <th>Location</th>\n",
       "    </tr>\n",
       "  </thead>\n",
       "  <tbody>\n",
       "    <tr>\n",
       "      <th>0</th>\n",
       "      <td>I192064813</td>\n",
       "      <td>3006</td>\n",
       "      <td>Medical Assistance</td>\n",
       "      <td>SICK/INJURED/MEDICAL - PERSON</td>\n",
       "      <td>D14</td>\n",
       "      <td>794</td>\n",
       "      <td>NaN</td>\n",
       "      <td>2019-08-17 21:00:00</td>\n",
       "      <td>2019</td>\n",
       "      <td>8</td>\n",
       "      <td>Saturday</td>\n",
       "      <td>21</td>\n",
       "      <td>Part Three</td>\n",
       "      <td>QUINT AVE</td>\n",
       "      <td>NaN</td>\n",
       "      <td>NaN</td>\n",
       "      <td>(0.00000000, 0.00000000)</td>\n",
       "    </tr>\n",
       "    <tr>\n",
       "      <th>1</th>\n",
       "      <td>I192064810</td>\n",
       "      <td>3410</td>\n",
       "      <td>Towed</td>\n",
       "      <td>TOWED MOTOR VEHICLE</td>\n",
       "      <td>B3</td>\n",
       "      <td>435</td>\n",
       "      <td>NaN</td>\n",
       "      <td>2019-08-17 21:15:00</td>\n",
       "      <td>2019</td>\n",
       "      <td>8</td>\n",
       "      <td>Saturday</td>\n",
       "      <td>21</td>\n",
       "      <td>Part Three</td>\n",
       "      <td>PEACEVALE RD</td>\n",
       "      <td>42.287167</td>\n",
       "      <td>-71.076335</td>\n",
       "      <td>(42.28716674, -71.07633479)</td>\n",
       "    </tr>\n",
       "    <tr>\n",
       "      <th>2</th>\n",
       "      <td>I192064808</td>\n",
       "      <td>2003</td>\n",
       "      <td>Offenses Against Child / Family</td>\n",
       "      <td>CHILD ENDANGERMENT (NO ASSAULT)</td>\n",
       "      <td>C11</td>\n",
       "      <td>355</td>\n",
       "      <td>NaN</td>\n",
       "      <td>2019-08-17 19:33:00</td>\n",
       "      <td>2019</td>\n",
       "      <td>8</td>\n",
       "      <td>Saturday</td>\n",
       "      <td>19</td>\n",
       "      <td>Part Two</td>\n",
       "      <td>GIBSON ST</td>\n",
       "      <td>42.297555</td>\n",
       "      <td>-71.059709</td>\n",
       "      <td>(42.29755533, -71.05970910)</td>\n",
       "    </tr>\n",
       "    <tr>\n",
       "      <th>3</th>\n",
       "      <td>I192064803</td>\n",
       "      <td>802</td>\n",
       "      <td>Simple Assault</td>\n",
       "      <td>ASSAULT SIMPLE - BATTERY</td>\n",
       "      <td>E18</td>\n",
       "      <td>554</td>\n",
       "      <td>NaN</td>\n",
       "      <td>2019-08-17 20:55:00</td>\n",
       "      <td>2019</td>\n",
       "      <td>8</td>\n",
       "      <td>Saturday</td>\n",
       "      <td>20</td>\n",
       "      <td>Part Two</td>\n",
       "      <td>METROPOLITAN AVE</td>\n",
       "      <td>42.272509</td>\n",
       "      <td>-71.123190</td>\n",
       "      <td>(42.27250898, -71.12318965)</td>\n",
       "    </tr>\n",
       "    <tr>\n",
       "      <th>4</th>\n",
       "      <td>I192064800</td>\n",
       "      <td>3114</td>\n",
       "      <td>Investigate Property</td>\n",
       "      <td>INVESTIGATE PROPERTY</td>\n",
       "      <td>E18</td>\n",
       "      <td>502</td>\n",
       "      <td>NaN</td>\n",
       "      <td>2019-08-17 19:39:00</td>\n",
       "      <td>2019</td>\n",
       "      <td>8</td>\n",
       "      <td>Saturday</td>\n",
       "      <td>19</td>\n",
       "      <td>Part Three</td>\n",
       "      <td>PHILBRICK ST</td>\n",
       "      <td>42.285459</td>\n",
       "      <td>-71.118027</td>\n",
       "      <td>(42.28545883, -71.11802667)</td>\n",
       "    </tr>\n",
       "  </tbody>\n",
       "</table>\n",
       "</div>"
      ],
      "text/plain": [
       "  INCIDENT_NUMBER  OFFENSE_CODE               OFFENSE_CODE_GROUP  \\\n",
       "0      I192064813          3006               Medical Assistance   \n",
       "1      I192064810          3410                            Towed   \n",
       "2      I192064808          2003  Offenses Against Child / Family   \n",
       "3      I192064803           802                   Simple Assault   \n",
       "4      I192064800          3114             Investigate Property   \n",
       "\n",
       "               OFFENSE_DESCRIPTION DISTRICT REPORTING_AREA SHOOTING  \\\n",
       "0    SICK/INJURED/MEDICAL - PERSON      D14            794      NaN   \n",
       "1              TOWED MOTOR VEHICLE       B3            435      NaN   \n",
       "2  CHILD ENDANGERMENT (NO ASSAULT)      C11            355      NaN   \n",
       "3         ASSAULT SIMPLE - BATTERY      E18            554      NaN   \n",
       "4             INVESTIGATE PROPERTY      E18            502      NaN   \n",
       "\n",
       "      OCCURRED_ON_DATE  YEAR  MONTH DAY_OF_WEEK  HOUR    UCR_PART  \\\n",
       "0  2019-08-17 21:00:00  2019      8    Saturday    21  Part Three   \n",
       "1  2019-08-17 21:15:00  2019      8    Saturday    21  Part Three   \n",
       "2  2019-08-17 19:33:00  2019      8    Saturday    19    Part Two   \n",
       "3  2019-08-17 20:55:00  2019      8    Saturday    20    Part Two   \n",
       "4  2019-08-17 19:39:00  2019      8    Saturday    19  Part Three   \n",
       "\n",
       "             STREET        Lat       Long                     Location  \n",
       "0         QUINT AVE        NaN        NaN     (0.00000000, 0.00000000)  \n",
       "1      PEACEVALE RD  42.287167 -71.076335  (42.28716674, -71.07633479)  \n",
       "2         GIBSON ST  42.297555 -71.059709  (42.29755533, -71.05970910)  \n",
       "3  METROPOLITAN AVE  42.272509 -71.123190  (42.27250898, -71.12318965)  \n",
       "4      PHILBRICK ST  42.285459 -71.118027  (42.28545883, -71.11802667)  "
      ]
     },
     "execution_count": 78,
     "metadata": {},
     "output_type": "execute_result"
    }
   ],
   "source": [
    "df.head()"
   ]
  },
  {
   "cell_type": "code",
   "execution_count": 82,
   "metadata": {},
   "outputs": [
    {
     "data": {
      "text/plain": [
       "INCIDENT_NUMBER             0\n",
       "OFFENSE_CODE                0\n",
       "OFFENSE_CODE_GROUP          0\n",
       "OFFENSE_DESCRIPTION         0\n",
       "DISTRICT                 2150\n",
       "REPORTING_AREA              0\n",
       "SHOOTING               411968\n",
       "OCCURRED_ON_DATE            0\n",
       "YEAR                        0\n",
       "MONTH                       0\n",
       "DAY_OF_WEEK                 0\n",
       "HOUR                        0\n",
       "UCR_PART                  109\n",
       "STREET                  12180\n",
       "Lat                     26657\n",
       "Long                    26657\n",
       "Location                    0\n",
       "dtype: int64"
      ]
     },
     "execution_count": 82,
     "metadata": {},
     "output_type": "execute_result"
    }
   ],
   "source": [
    "df.isnull().sum()"
   ]
  },
  {
   "cell_type": "code",
   "execution_count": 83,
   "metadata": {},
   "outputs": [
    {
     "data": {
      "text/plain": [
       "0         True\n",
       "1         True\n",
       "2         True\n",
       "3         True\n",
       "4         True\n",
       "          ... \n",
       "413667    True\n",
       "413668    True\n",
       "413669    True\n",
       "413670    True\n",
       "413671    True\n",
       "Length: 413672, dtype: bool"
      ]
     },
     "execution_count": 83,
     "metadata": {},
     "output_type": "execute_result"
    }
   ],
   "source": [
    "df.isnull().any(axis =1)"
   ]
  },
  {
   "cell_type": "code",
   "execution_count": 84,
   "metadata": {},
   "outputs": [
    {
     "data": {
      "text/html": [
       "<div>\n",
       "<style scoped>\n",
       "    .dataframe tbody tr th:only-of-type {\n",
       "        vertical-align: middle;\n",
       "    }\n",
       "\n",
       "    .dataframe tbody tr th {\n",
       "        vertical-align: top;\n",
       "    }\n",
       "\n",
       "    .dataframe thead th {\n",
       "        text-align: right;\n",
       "    }\n",
       "</style>\n",
       "<table border=\"1\" class=\"dataframe\">\n",
       "  <thead>\n",
       "    <tr style=\"text-align: right;\">\n",
       "      <th></th>\n",
       "      <th>INCIDENT_NUMBER</th>\n",
       "      <th>OFFENSE_CODE</th>\n",
       "      <th>OFFENSE_CODE_GROUP</th>\n",
       "      <th>OFFENSE_DESCRIPTION</th>\n",
       "      <th>DISTRICT</th>\n",
       "      <th>REPORTING_AREA</th>\n",
       "      <th>SHOOTING</th>\n",
       "      <th>OCCURRED_ON_DATE</th>\n",
       "      <th>YEAR</th>\n",
       "      <th>MONTH</th>\n",
       "      <th>DAY_OF_WEEK</th>\n",
       "      <th>HOUR</th>\n",
       "      <th>UCR_PART</th>\n",
       "      <th>STREET</th>\n",
       "      <th>Lat</th>\n",
       "      <th>Long</th>\n",
       "      <th>Location</th>\n",
       "    </tr>\n",
       "  </thead>\n",
       "  <tbody>\n",
       "    <tr>\n",
       "      <th>0</th>\n",
       "      <td>I192064813</td>\n",
       "      <td>3006</td>\n",
       "      <td>Medical Assistance</td>\n",
       "      <td>SICK/INJURED/MEDICAL - PERSON</td>\n",
       "      <td>D14</td>\n",
       "      <td>794</td>\n",
       "      <td>NaN</td>\n",
       "      <td>2019-08-17 21:00:00</td>\n",
       "      <td>2019</td>\n",
       "      <td>8</td>\n",
       "      <td>Saturday</td>\n",
       "      <td>21</td>\n",
       "      <td>Part Three</td>\n",
       "      <td>QUINT AVE</td>\n",
       "      <td>NaN</td>\n",
       "      <td>NaN</td>\n",
       "      <td>(0.00000000, 0.00000000)</td>\n",
       "    </tr>\n",
       "    <tr>\n",
       "      <th>1</th>\n",
       "      <td>I192064810</td>\n",
       "      <td>3410</td>\n",
       "      <td>Towed</td>\n",
       "      <td>TOWED MOTOR VEHICLE</td>\n",
       "      <td>B3</td>\n",
       "      <td>435</td>\n",
       "      <td>NaN</td>\n",
       "      <td>2019-08-17 21:15:00</td>\n",
       "      <td>2019</td>\n",
       "      <td>8</td>\n",
       "      <td>Saturday</td>\n",
       "      <td>21</td>\n",
       "      <td>Part Three</td>\n",
       "      <td>PEACEVALE RD</td>\n",
       "      <td>42.287167</td>\n",
       "      <td>-71.076335</td>\n",
       "      <td>(42.28716674, -71.07633479)</td>\n",
       "    </tr>\n",
       "    <tr>\n",
       "      <th>2</th>\n",
       "      <td>I192064808</td>\n",
       "      <td>2003</td>\n",
       "      <td>Offenses Against Child / Family</td>\n",
       "      <td>CHILD ENDANGERMENT (NO ASSAULT)</td>\n",
       "      <td>C11</td>\n",
       "      <td>355</td>\n",
       "      <td>NaN</td>\n",
       "      <td>2019-08-17 19:33:00</td>\n",
       "      <td>2019</td>\n",
       "      <td>8</td>\n",
       "      <td>Saturday</td>\n",
       "      <td>19</td>\n",
       "      <td>Part Two</td>\n",
       "      <td>GIBSON ST</td>\n",
       "      <td>42.297555</td>\n",
       "      <td>-71.059709</td>\n",
       "      <td>(42.29755533, -71.05970910)</td>\n",
       "    </tr>\n",
       "    <tr>\n",
       "      <th>3</th>\n",
       "      <td>I192064803</td>\n",
       "      <td>802</td>\n",
       "      <td>Simple Assault</td>\n",
       "      <td>ASSAULT SIMPLE - BATTERY</td>\n",
       "      <td>E18</td>\n",
       "      <td>554</td>\n",
       "      <td>NaN</td>\n",
       "      <td>2019-08-17 20:55:00</td>\n",
       "      <td>2019</td>\n",
       "      <td>8</td>\n",
       "      <td>Saturday</td>\n",
       "      <td>20</td>\n",
       "      <td>Part Two</td>\n",
       "      <td>METROPOLITAN AVE</td>\n",
       "      <td>42.272509</td>\n",
       "      <td>-71.123190</td>\n",
       "      <td>(42.27250898, -71.12318965)</td>\n",
       "    </tr>\n",
       "    <tr>\n",
       "      <th>4</th>\n",
       "      <td>I192064800</td>\n",
       "      <td>3114</td>\n",
       "      <td>Investigate Property</td>\n",
       "      <td>INVESTIGATE PROPERTY</td>\n",
       "      <td>E18</td>\n",
       "      <td>502</td>\n",
       "      <td>NaN</td>\n",
       "      <td>2019-08-17 19:39:00</td>\n",
       "      <td>2019</td>\n",
       "      <td>8</td>\n",
       "      <td>Saturday</td>\n",
       "      <td>19</td>\n",
       "      <td>Part Three</td>\n",
       "      <td>PHILBRICK ST</td>\n",
       "      <td>42.285459</td>\n",
       "      <td>-71.118027</td>\n",
       "      <td>(42.28545883, -71.11802667)</td>\n",
       "    </tr>\n",
       "    <tr>\n",
       "      <th>...</th>\n",
       "      <td>...</td>\n",
       "      <td>...</td>\n",
       "      <td>...</td>\n",
       "      <td>...</td>\n",
       "      <td>...</td>\n",
       "      <td>...</td>\n",
       "      <td>...</td>\n",
       "      <td>...</td>\n",
       "      <td>...</td>\n",
       "      <td>...</td>\n",
       "      <td>...</td>\n",
       "      <td>...</td>\n",
       "      <td>...</td>\n",
       "      <td>...</td>\n",
       "      <td>...</td>\n",
       "      <td>...</td>\n",
       "      <td>...</td>\n",
       "    </tr>\n",
       "    <tr>\n",
       "      <th>413667</th>\n",
       "      <td>I020691165-00</td>\n",
       "      <td>3125</td>\n",
       "      <td>Warrant Arrests</td>\n",
       "      <td>WARRANT ARREST</td>\n",
       "      <td>A1</td>\n",
       "      <td>77</td>\n",
       "      <td>NaN</td>\n",
       "      <td>2019-05-23 08:00:00</td>\n",
       "      <td>2019</td>\n",
       "      <td>5</td>\n",
       "      <td>Thursday</td>\n",
       "      <td>8</td>\n",
       "      <td>Part Three</td>\n",
       "      <td>NEW SUDBURY ST</td>\n",
       "      <td>42.361839</td>\n",
       "      <td>-71.059765</td>\n",
       "      <td>(42.36183857, -71.05976489)</td>\n",
       "    </tr>\n",
       "    <tr>\n",
       "      <th>413668</th>\n",
       "      <td>I020674147-00</td>\n",
       "      <td>3125</td>\n",
       "      <td>Warrant Arrests</td>\n",
       "      <td>WARRANT ARREST</td>\n",
       "      <td>A1</td>\n",
       "      <td>77</td>\n",
       "      <td>NaN</td>\n",
       "      <td>2019-05-23 08:00:00</td>\n",
       "      <td>2019</td>\n",
       "      <td>5</td>\n",
       "      <td>Thursday</td>\n",
       "      <td>8</td>\n",
       "      <td>Part Three</td>\n",
       "      <td>NEW SUDBURY ST</td>\n",
       "      <td>42.361839</td>\n",
       "      <td>-71.059765</td>\n",
       "      <td>(42.36183857, -71.05976489)</td>\n",
       "    </tr>\n",
       "    <tr>\n",
       "      <th>413669</th>\n",
       "      <td>I020669075-00</td>\n",
       "      <td>3125</td>\n",
       "      <td>Warrant Arrests</td>\n",
       "      <td>WARRANT ARREST</td>\n",
       "      <td>A1</td>\n",
       "      <td>77</td>\n",
       "      <td>NaN</td>\n",
       "      <td>2019-05-23 08:00:00</td>\n",
       "      <td>2019</td>\n",
       "      <td>5</td>\n",
       "      <td>Thursday</td>\n",
       "      <td>8</td>\n",
       "      <td>Part Three</td>\n",
       "      <td>NEW SUDBURY ST</td>\n",
       "      <td>42.361839</td>\n",
       "      <td>-71.059765</td>\n",
       "      <td>(42.36183857, -71.05976489)</td>\n",
       "    </tr>\n",
       "    <tr>\n",
       "      <th>413670</th>\n",
       "      <td>I020662996-00</td>\n",
       "      <td>3125</td>\n",
       "      <td>Warrant Arrests</td>\n",
       "      <td>WARRANT ARREST</td>\n",
       "      <td>A1</td>\n",
       "      <td>77</td>\n",
       "      <td>NaN</td>\n",
       "      <td>2019-05-23 08:56:00</td>\n",
       "      <td>2019</td>\n",
       "      <td>5</td>\n",
       "      <td>Thursday</td>\n",
       "      <td>8</td>\n",
       "      <td>Part Three</td>\n",
       "      <td>NEW SUDBURY ST</td>\n",
       "      <td>42.361839</td>\n",
       "      <td>-71.059765</td>\n",
       "      <td>(42.36183857, -71.05976489)</td>\n",
       "    </tr>\n",
       "    <tr>\n",
       "      <th>413671</th>\n",
       "      <td>I010370257-00</td>\n",
       "      <td>3125</td>\n",
       "      <td>Warrant Arrests</td>\n",
       "      <td>WARRANT ARREST</td>\n",
       "      <td>E13</td>\n",
       "      <td>569</td>\n",
       "      <td>NaN</td>\n",
       "      <td>2016-05-31 19:35:00</td>\n",
       "      <td>2016</td>\n",
       "      <td>5</td>\n",
       "      <td>Tuesday</td>\n",
       "      <td>19</td>\n",
       "      <td>Part Three</td>\n",
       "      <td>NEW WASHINGTON ST</td>\n",
       "      <td>42.302333</td>\n",
       "      <td>-71.111565</td>\n",
       "      <td>(42.30233307, -71.11156487)</td>\n",
       "    </tr>\n",
       "  </tbody>\n",
       "</table>\n",
       "<p>412042 rows × 17 columns</p>\n",
       "</div>"
      ],
      "text/plain": [
       "       INCIDENT_NUMBER  OFFENSE_CODE               OFFENSE_CODE_GROUP  \\\n",
       "0           I192064813          3006               Medical Assistance   \n",
       "1           I192064810          3410                            Towed   \n",
       "2           I192064808          2003  Offenses Against Child / Family   \n",
       "3           I192064803           802                   Simple Assault   \n",
       "4           I192064800          3114             Investigate Property   \n",
       "...                ...           ...                              ...   \n",
       "413667   I020691165-00          3125                  Warrant Arrests   \n",
       "413668   I020674147-00          3125                  Warrant Arrests   \n",
       "413669   I020669075-00          3125                  Warrant Arrests   \n",
       "413670   I020662996-00          3125                  Warrant Arrests   \n",
       "413671   I010370257-00          3125                  Warrant Arrests   \n",
       "\n",
       "                    OFFENSE_DESCRIPTION DISTRICT REPORTING_AREA SHOOTING  \\\n",
       "0         SICK/INJURED/MEDICAL - PERSON      D14            794      NaN   \n",
       "1                   TOWED MOTOR VEHICLE       B3            435      NaN   \n",
       "2       CHILD ENDANGERMENT (NO ASSAULT)      C11            355      NaN   \n",
       "3              ASSAULT SIMPLE - BATTERY      E18            554      NaN   \n",
       "4                  INVESTIGATE PROPERTY      E18            502      NaN   \n",
       "...                                 ...      ...            ...      ...   \n",
       "413667                   WARRANT ARREST       A1             77      NaN   \n",
       "413668                   WARRANT ARREST       A1             77      NaN   \n",
       "413669                   WARRANT ARREST       A1             77      NaN   \n",
       "413670                   WARRANT ARREST       A1             77      NaN   \n",
       "413671                   WARRANT ARREST      E13            569      NaN   \n",
       "\n",
       "           OCCURRED_ON_DATE  YEAR  MONTH DAY_OF_WEEK  HOUR    UCR_PART  \\\n",
       "0       2019-08-17 21:00:00  2019      8    Saturday    21  Part Three   \n",
       "1       2019-08-17 21:15:00  2019      8    Saturday    21  Part Three   \n",
       "2       2019-08-17 19:33:00  2019      8    Saturday    19    Part Two   \n",
       "3       2019-08-17 20:55:00  2019      8    Saturday    20    Part Two   \n",
       "4       2019-08-17 19:39:00  2019      8    Saturday    19  Part Three   \n",
       "...                     ...   ...    ...         ...   ...         ...   \n",
       "413667  2019-05-23 08:00:00  2019      5    Thursday     8  Part Three   \n",
       "413668  2019-05-23 08:00:00  2019      5    Thursday     8  Part Three   \n",
       "413669  2019-05-23 08:00:00  2019      5    Thursday     8  Part Three   \n",
       "413670  2019-05-23 08:56:00  2019      5    Thursday     8  Part Three   \n",
       "413671  2016-05-31 19:35:00  2016      5     Tuesday    19  Part Three   \n",
       "\n",
       "                   STREET        Lat       Long                     Location  \n",
       "0               QUINT AVE        NaN        NaN     (0.00000000, 0.00000000)  \n",
       "1            PEACEVALE RD  42.287167 -71.076335  (42.28716674, -71.07633479)  \n",
       "2               GIBSON ST  42.297555 -71.059709  (42.29755533, -71.05970910)  \n",
       "3        METROPOLITAN AVE  42.272509 -71.123190  (42.27250898, -71.12318965)  \n",
       "4            PHILBRICK ST  42.285459 -71.118027  (42.28545883, -71.11802667)  \n",
       "...                   ...        ...        ...                          ...  \n",
       "413667     NEW SUDBURY ST  42.361839 -71.059765  (42.36183857, -71.05976489)  \n",
       "413668     NEW SUDBURY ST  42.361839 -71.059765  (42.36183857, -71.05976489)  \n",
       "413669     NEW SUDBURY ST  42.361839 -71.059765  (42.36183857, -71.05976489)  \n",
       "413670     NEW SUDBURY ST  42.361839 -71.059765  (42.36183857, -71.05976489)  \n",
       "413671  NEW WASHINGTON ST  42.302333 -71.111565  (42.30233307, -71.11156487)  \n",
       "\n",
       "[412042 rows x 17 columns]"
      ]
     },
     "execution_count": 84,
     "metadata": {},
     "output_type": "execute_result"
    }
   ],
   "source": [
    "#dataset with missing values\n",
    "rows_with_missing_value = df.isnull().any(axis=1)\n",
    "df[rows_with_missing_value]"
   ]
  },
  {
   "cell_type": "code",
   "execution_count": 86,
   "metadata": {},
   "outputs": [],
   "source": [
    "crime_cleaned = df.drop(columns = ['YEAR','MONTH','HOUR'])"
   ]
  },
  {
   "cell_type": "code",
   "execution_count": 87,
   "metadata": {},
   "outputs": [
    {
     "data": {
      "text/plain": [
       "array(['Medical Assistance', 'Towed', 'Offenses Against Child / Family',\n",
       "       'Simple Assault', 'Investigate Property', 'Verbal Disputes',\n",
       "       'Larceny', 'Fire Related Reports', 'Missing Person Reported',\n",
       "       'Robbery', 'Firearm Violations', 'Residential Burglary',\n",
       "       'Investigate Person', 'Drug Violation', 'Aggravated Assault',\n",
       "       'Violations', 'Motor Vehicle Accident Response', 'Property Found',\n",
       "       'Larceny From Motor Vehicle', 'Liquor Violation', 'Other',\n",
       "       'Harassment', 'Vandalism', 'Property Lost',\n",
       "       'Assembly or Gathering Violations', 'Warrant Arrests',\n",
       "       'Landlord/Tenant Disputes', 'Restraining Order Violations',\n",
       "       'Recovered Stolen Property', 'Auto Theft Recovery',\n",
       "       'Firearm Discovery', 'Other Burglary', 'Auto Theft',\n",
       "       'Commercial Burglary', 'Service', 'Police Service Incidents',\n",
       "       'Disorderly Conduct', 'Property Related Damage',\n",
       "       'Harbor Related Incidents', 'Fraud', 'Ballistics',\n",
       "       'Missing Person Located', 'Search Warrants', 'Confidence Games',\n",
       "       'Counterfeiting', 'License Violation', 'HOME INVASION',\n",
       "       'Operating Under the Influence', 'License Plate Related Incidents',\n",
       "       'Evading Fare', 'Embezzlement', 'Prisoner Related Incidents',\n",
       "       'Aircraft', 'Arson', 'Explosives', 'Homicide', 'Prostitution',\n",
       "       'Criminal Harassment', 'Bomb Hoax', 'Phone Call Complaints',\n",
       "       'HUMAN TRAFFICKING - INVOLUNTARY SERVITUDE', 'Manslaughter',\n",
       "       'HUMAN TRAFFICKING', 'Biological Threat', 'Gambling',\n",
       "       'INVESTIGATE PERSON', 'Burglary - No Property Taken'], dtype=object)"
      ]
     },
     "execution_count": 87,
     "metadata": {},
     "output_type": "execute_result"
    }
   ],
   "source": [
    "#check misspellings\n",
    "crime_cleaned[\"OFFENSE_CODE_GROUP\"].unique()"
   ]
  },
  {
   "cell_type": "code",
   "execution_count": 88,
   "metadata": {},
   "outputs": [],
   "source": [
    "crime_cleaned = crime_cleaned.drop(columns = 'Location')"
   ]
  },
  {
   "cell_type": "code",
   "execution_count": 89,
   "metadata": {},
   "outputs": [
    {
     "data": {
      "text/html": [
       "<div>\n",
       "<style scoped>\n",
       "    .dataframe tbody tr th:only-of-type {\n",
       "        vertical-align: middle;\n",
       "    }\n",
       "\n",
       "    .dataframe tbody tr th {\n",
       "        vertical-align: top;\n",
       "    }\n",
       "\n",
       "    .dataframe thead th {\n",
       "        text-align: right;\n",
       "    }\n",
       "</style>\n",
       "<table border=\"1\" class=\"dataframe\">\n",
       "  <thead>\n",
       "    <tr style=\"text-align: right;\">\n",
       "      <th></th>\n",
       "      <th>INCIDENT_NUMBER</th>\n",
       "      <th>OFFENSE_CODE</th>\n",
       "      <th>OFFENSE_CODE_GROUP</th>\n",
       "      <th>OFFENSE_DESCRIPTION</th>\n",
       "      <th>DISTRICT</th>\n",
       "      <th>REPORTING_AREA</th>\n",
       "      <th>SHOOTING</th>\n",
       "      <th>OCCURRED_ON_DATE</th>\n",
       "      <th>DAY_OF_WEEK</th>\n",
       "      <th>UCR_PART</th>\n",
       "      <th>STREET</th>\n",
       "      <th>Lat</th>\n",
       "      <th>Long</th>\n",
       "    </tr>\n",
       "  </thead>\n",
       "  <tbody>\n",
       "    <tr>\n",
       "      <th>0</th>\n",
       "      <td>I192064813</td>\n",
       "      <td>3006</td>\n",
       "      <td>Medical Assistance</td>\n",
       "      <td>SICK/INJURED/MEDICAL - PERSON</td>\n",
       "      <td>D14</td>\n",
       "      <td>794</td>\n",
       "      <td>NaN</td>\n",
       "      <td>2019-08-17 21:00:00</td>\n",
       "      <td>Saturday</td>\n",
       "      <td>Part Three</td>\n",
       "      <td>QUINT AVE</td>\n",
       "      <td>NaN</td>\n",
       "      <td>NaN</td>\n",
       "    </tr>\n",
       "    <tr>\n",
       "      <th>1</th>\n",
       "      <td>I192064810</td>\n",
       "      <td>3410</td>\n",
       "      <td>Towed</td>\n",
       "      <td>TOWED MOTOR VEHICLE</td>\n",
       "      <td>B3</td>\n",
       "      <td>435</td>\n",
       "      <td>NaN</td>\n",
       "      <td>2019-08-17 21:15:00</td>\n",
       "      <td>Saturday</td>\n",
       "      <td>Part Three</td>\n",
       "      <td>PEACEVALE RD</td>\n",
       "      <td>42.287167</td>\n",
       "      <td>-71.076335</td>\n",
       "    </tr>\n",
       "    <tr>\n",
       "      <th>2</th>\n",
       "      <td>I192064808</td>\n",
       "      <td>2003</td>\n",
       "      <td>Offenses Against Child / Family</td>\n",
       "      <td>CHILD ENDANGERMENT (NO ASSAULT)</td>\n",
       "      <td>C11</td>\n",
       "      <td>355</td>\n",
       "      <td>NaN</td>\n",
       "      <td>2019-08-17 19:33:00</td>\n",
       "      <td>Saturday</td>\n",
       "      <td>Part Two</td>\n",
       "      <td>GIBSON ST</td>\n",
       "      <td>42.297555</td>\n",
       "      <td>-71.059709</td>\n",
       "    </tr>\n",
       "    <tr>\n",
       "      <th>3</th>\n",
       "      <td>I192064803</td>\n",
       "      <td>802</td>\n",
       "      <td>Simple Assault</td>\n",
       "      <td>ASSAULT SIMPLE - BATTERY</td>\n",
       "      <td>E18</td>\n",
       "      <td>554</td>\n",
       "      <td>NaN</td>\n",
       "      <td>2019-08-17 20:55:00</td>\n",
       "      <td>Saturday</td>\n",
       "      <td>Part Two</td>\n",
       "      <td>METROPOLITAN AVE</td>\n",
       "      <td>42.272509</td>\n",
       "      <td>-71.123190</td>\n",
       "    </tr>\n",
       "    <tr>\n",
       "      <th>4</th>\n",
       "      <td>I192064800</td>\n",
       "      <td>3114</td>\n",
       "      <td>Investigate Property</td>\n",
       "      <td>INVESTIGATE PROPERTY</td>\n",
       "      <td>E18</td>\n",
       "      <td>502</td>\n",
       "      <td>NaN</td>\n",
       "      <td>2019-08-17 19:39:00</td>\n",
       "      <td>Saturday</td>\n",
       "      <td>Part Three</td>\n",
       "      <td>PHILBRICK ST</td>\n",
       "      <td>42.285459</td>\n",
       "      <td>-71.118027</td>\n",
       "    </tr>\n",
       "  </tbody>\n",
       "</table>\n",
       "</div>"
      ],
      "text/plain": [
       "  INCIDENT_NUMBER  OFFENSE_CODE               OFFENSE_CODE_GROUP  \\\n",
       "0      I192064813          3006               Medical Assistance   \n",
       "1      I192064810          3410                            Towed   \n",
       "2      I192064808          2003  Offenses Against Child / Family   \n",
       "3      I192064803           802                   Simple Assault   \n",
       "4      I192064800          3114             Investigate Property   \n",
       "\n",
       "               OFFENSE_DESCRIPTION DISTRICT REPORTING_AREA SHOOTING  \\\n",
       "0    SICK/INJURED/MEDICAL - PERSON      D14            794      NaN   \n",
       "1              TOWED MOTOR VEHICLE       B3            435      NaN   \n",
       "2  CHILD ENDANGERMENT (NO ASSAULT)      C11            355      NaN   \n",
       "3         ASSAULT SIMPLE - BATTERY      E18            554      NaN   \n",
       "4             INVESTIGATE PROPERTY      E18            502      NaN   \n",
       "\n",
       "      OCCURRED_ON_DATE DAY_OF_WEEK    UCR_PART            STREET        Lat  \\\n",
       "0  2019-08-17 21:00:00    Saturday  Part Three         QUINT AVE        NaN   \n",
       "1  2019-08-17 21:15:00    Saturday  Part Three      PEACEVALE RD  42.287167   \n",
       "2  2019-08-17 19:33:00    Saturday    Part Two         GIBSON ST  42.297555   \n",
       "3  2019-08-17 20:55:00    Saturday    Part Two  METROPOLITAN AVE  42.272509   \n",
       "4  2019-08-17 19:39:00    Saturday  Part Three      PHILBRICK ST  42.285459   \n",
       "\n",
       "        Long  \n",
       "0        NaN  \n",
       "1 -71.076335  \n",
       "2 -71.059709  \n",
       "3 -71.123190  \n",
       "4 -71.118027  "
      ]
     },
     "execution_count": 89,
     "metadata": {},
     "output_type": "execute_result"
    }
   ],
   "source": [
    "crime_cleaned.head()"
   ]
  },
  {
   "cell_type": "code",
   "execution_count": 90,
   "metadata": {},
   "outputs": [],
   "source": [
    "import matplotlib.pyplot as plt\n",
    "import seaborn as sn"
   ]
  },
  {
   "cell_type": "code",
   "execution_count": 93,
   "metadata": {},
   "outputs": [],
   "source": [
    "listing = pd.read_csv(r\"C:\\Users\\v-trugan\\OneDrive - Microsoft\\Desktop\\TruptiFolder2020\\Data_Science\\Project\\Baby_Names\\Airbnb_NYC_2019.csv\")"
   ]
  },
  {
   "cell_type": "code",
   "execution_count": 94,
   "metadata": {},
   "outputs": [
    {
     "data": {
      "text/html": [
       "<div>\n",
       "<style scoped>\n",
       "    .dataframe tbody tr th:only-of-type {\n",
       "        vertical-align: middle;\n",
       "    }\n",
       "\n",
       "    .dataframe tbody tr th {\n",
       "        vertical-align: top;\n",
       "    }\n",
       "\n",
       "    .dataframe thead th {\n",
       "        text-align: right;\n",
       "    }\n",
       "</style>\n",
       "<table border=\"1\" class=\"dataframe\">\n",
       "  <thead>\n",
       "    <tr style=\"text-align: right;\">\n",
       "      <th></th>\n",
       "      <th>id</th>\n",
       "      <th>name</th>\n",
       "      <th>host_id</th>\n",
       "      <th>host_name</th>\n",
       "      <th>neighbourhood_group</th>\n",
       "      <th>neighbourhood</th>\n",
       "      <th>latitude</th>\n",
       "      <th>longitude</th>\n",
       "      <th>room_type</th>\n",
       "      <th>price</th>\n",
       "      <th>minimum_nights</th>\n",
       "      <th>number_of_reviews</th>\n",
       "      <th>last_review</th>\n",
       "      <th>reviews_per_month</th>\n",
       "      <th>calculated_host_listings_count</th>\n",
       "      <th>availability_365</th>\n",
       "    </tr>\n",
       "  </thead>\n",
       "  <tbody>\n",
       "    <tr>\n",
       "      <th>0</th>\n",
       "      <td>2539</td>\n",
       "      <td>Clean &amp; quiet apt home by the park</td>\n",
       "      <td>2787</td>\n",
       "      <td>John</td>\n",
       "      <td>Brooklyn</td>\n",
       "      <td>Kensington</td>\n",
       "      <td>40.64749</td>\n",
       "      <td>-73.97237</td>\n",
       "      <td>Private room</td>\n",
       "      <td>149</td>\n",
       "      <td>1</td>\n",
       "      <td>9</td>\n",
       "      <td>2018-10-19</td>\n",
       "      <td>0.21</td>\n",
       "      <td>6</td>\n",
       "      <td>365</td>\n",
       "    </tr>\n",
       "    <tr>\n",
       "      <th>1</th>\n",
       "      <td>2595</td>\n",
       "      <td>Skylit Midtown Castle</td>\n",
       "      <td>2845</td>\n",
       "      <td>Jennifer</td>\n",
       "      <td>Manhattan</td>\n",
       "      <td>Midtown</td>\n",
       "      <td>40.75362</td>\n",
       "      <td>-73.98377</td>\n",
       "      <td>Entire home/apt</td>\n",
       "      <td>225</td>\n",
       "      <td>1</td>\n",
       "      <td>45</td>\n",
       "      <td>2019-05-21</td>\n",
       "      <td>0.38</td>\n",
       "      <td>2</td>\n",
       "      <td>355</td>\n",
       "    </tr>\n",
       "    <tr>\n",
       "      <th>2</th>\n",
       "      <td>3647</td>\n",
       "      <td>THE VILLAGE OF HARLEM....NEW YORK !</td>\n",
       "      <td>4632</td>\n",
       "      <td>Elisabeth</td>\n",
       "      <td>Manhattan</td>\n",
       "      <td>Harlem</td>\n",
       "      <td>40.80902</td>\n",
       "      <td>-73.94190</td>\n",
       "      <td>Private room</td>\n",
       "      <td>150</td>\n",
       "      <td>3</td>\n",
       "      <td>0</td>\n",
       "      <td>NaN</td>\n",
       "      <td>NaN</td>\n",
       "      <td>1</td>\n",
       "      <td>365</td>\n",
       "    </tr>\n",
       "    <tr>\n",
       "      <th>3</th>\n",
       "      <td>3831</td>\n",
       "      <td>Cozy Entire Floor of Brownstone</td>\n",
       "      <td>4869</td>\n",
       "      <td>LisaRoxanne</td>\n",
       "      <td>Brooklyn</td>\n",
       "      <td>Clinton Hill</td>\n",
       "      <td>40.68514</td>\n",
       "      <td>-73.95976</td>\n",
       "      <td>Entire home/apt</td>\n",
       "      <td>89</td>\n",
       "      <td>1</td>\n",
       "      <td>270</td>\n",
       "      <td>2019-07-05</td>\n",
       "      <td>4.64</td>\n",
       "      <td>1</td>\n",
       "      <td>194</td>\n",
       "    </tr>\n",
       "    <tr>\n",
       "      <th>4</th>\n",
       "      <td>5022</td>\n",
       "      <td>Entire Apt: Spacious Studio/Loft by central park</td>\n",
       "      <td>7192</td>\n",
       "      <td>Laura</td>\n",
       "      <td>Manhattan</td>\n",
       "      <td>East Harlem</td>\n",
       "      <td>40.79851</td>\n",
       "      <td>-73.94399</td>\n",
       "      <td>Entire home/apt</td>\n",
       "      <td>80</td>\n",
       "      <td>10</td>\n",
       "      <td>9</td>\n",
       "      <td>2018-11-19</td>\n",
       "      <td>0.10</td>\n",
       "      <td>1</td>\n",
       "      <td>0</td>\n",
       "    </tr>\n",
       "  </tbody>\n",
       "</table>\n",
       "</div>"
      ],
      "text/plain": [
       "     id                                              name  host_id  \\\n",
       "0  2539                Clean & quiet apt home by the park     2787   \n",
       "1  2595                             Skylit Midtown Castle     2845   \n",
       "2  3647               THE VILLAGE OF HARLEM....NEW YORK !     4632   \n",
       "3  3831                   Cozy Entire Floor of Brownstone     4869   \n",
       "4  5022  Entire Apt: Spacious Studio/Loft by central park     7192   \n",
       "\n",
       "     host_name neighbourhood_group neighbourhood  latitude  longitude  \\\n",
       "0         John            Brooklyn    Kensington  40.64749  -73.97237   \n",
       "1     Jennifer           Manhattan       Midtown  40.75362  -73.98377   \n",
       "2    Elisabeth           Manhattan        Harlem  40.80902  -73.94190   \n",
       "3  LisaRoxanne            Brooklyn  Clinton Hill  40.68514  -73.95976   \n",
       "4        Laura           Manhattan   East Harlem  40.79851  -73.94399   \n",
       "\n",
       "         room_type  price  minimum_nights  number_of_reviews last_review  \\\n",
       "0     Private room    149               1                  9  2018-10-19   \n",
       "1  Entire home/apt    225               1                 45  2019-05-21   \n",
       "2     Private room    150               3                  0         NaN   \n",
       "3  Entire home/apt     89               1                270  2019-07-05   \n",
       "4  Entire home/apt     80              10                  9  2018-11-19   \n",
       "\n",
       "   reviews_per_month  calculated_host_listings_count  availability_365  \n",
       "0               0.21                               6               365  \n",
       "1               0.38                               2               355  \n",
       "2                NaN                               1               365  \n",
       "3               4.64                               1               194  \n",
       "4               0.10                               1                 0  "
      ]
     },
     "execution_count": 94,
     "metadata": {},
     "output_type": "execute_result"
    }
   ],
   "source": [
    "listing.head()"
   ]
  },
  {
   "cell_type": "code",
   "execution_count": 95,
   "metadata": {},
   "outputs": [
    {
     "data": {
      "text/plain": [
       "['id',\n",
       " 'name',\n",
       " 'host_id',\n",
       " 'host_name',\n",
       " 'neighbourhood_group',\n",
       " 'neighbourhood',\n",
       " 'latitude',\n",
       " 'longitude',\n",
       " 'room_type',\n",
       " 'price',\n",
       " 'minimum_nights',\n",
       " 'number_of_reviews',\n",
       " 'last_review',\n",
       " 'reviews_per_month',\n",
       " 'calculated_host_listings_count',\n",
       " 'availability_365']"
      ]
     },
     "execution_count": 95,
     "metadata": {},
     "output_type": "execute_result"
    }
   ],
   "source": [
    "listing.columns.tolist()"
   ]
  },
  {
   "cell_type": "code",
   "execution_count": 96,
   "metadata": {},
   "outputs": [
    {
     "data": {
      "image/png": "[encoded data removed]",
      "text/plain": [
       "<Figure size 432x288 with 1 Axes>"
      ]
     },
     "metadata": {
      "needs_background": "light"
     },
     "output_type": "display_data"
    }
   ],
   "source": [
    "sn.countplot(x = 'neighbourhood_group' , data = listing )\n",
    "plt.show()"
   ]
  },
  {
   "cell_type": "code",
   "execution_count": 97,
   "metadata": {},
   "outputs": [
    {
     "data": {
      "image/png": "[encoded data removed]",
      "text/plain": [
       "<Figure size 432x288 with 1 Axes>"
      ]
     },
     "metadata": {
      "needs_background": "light"
     },
     "output_type": "display_data"
    }
   ],
   "source": [
    "sn.barplot(x = 'neighbourhood_group', y = 'price', data = listing)\n",
    "plt.show()"
   ]
  },
  {
   "cell_type": "code",
   "execution_count": 98,
   "metadata": {},
   "outputs": [
    {
     "data": {
      "image/png": "[encoded data removed]",
      "text/plain": [
       "<Figure size 432x288 with 1 Axes>"
      ]
     },
     "metadata": {
      "needs_background": "light"
     },
     "output_type": "display_data"
    }
   ],
   "source": [
    "sn.barplot(x = 'neighbourhood_group', y = 'price', data = listing, ci =False)\n",
    "plt.show()"
   ]
  },
  {
   "cell_type": "markdown",
   "metadata": {},
   "source": [
    "##### Quantitative Data / Numerical data \n"
   ]
  },
  {
   "cell_type": "code",
   "execution_count": 99,
   "metadata": {},
   "outputs": [],
   "source": [
    "import numpy as np"
   ]
  },
  {
   "cell_type": "code",
   "execution_count": 101,
   "metadata": {},
   "outputs": [
    {
     "data": {
      "image/png": "[encoded data removed]",
      "text/plain": [
       "<Figure size 432x288 with 1 Axes>"
      ]
     },
     "metadata": {
      "needs_background": "light"
     },
     "output_type": "display_data"
    }
   ],
   "source": [
    "plt.hist(listing['price'])\n",
    "plt.xlabel(\"price in US dollars\")\n",
    "plt.show()"
   ]
  },
  {
   "cell_type": "code",
   "execution_count": 102,
   "metadata": {},
   "outputs": [
    {
     "data": {
      "image/png": "[encoded data removed]",
      "text/plain": [
       "<Figure size 432x288 with 1 Axes>"
      ]
     },
     "metadata": {
      "needs_background": "light"
     },
     "output_type": "display_data"
    }
   ],
   "source": [
    "plt.hist(listing['price'], bins =np.arange(0,1100,40))\n",
    "plt.xlabel(\"Price\")\n",
    "plt.show()"
   ]
  },
  {
   "cell_type": "markdown",
   "metadata": {},
   "source": [
    "Most of the airBNB prices are between 50 to 500."
   ]
  },
  {
   "cell_type": "code",
   "execution_count": 104,
   "metadata": {},
   "outputs": [
    {
     "data": {
      "image/png": "[encoded data removed]",
      "text/plain": [
       "<Figure size 432x288 with 1 Axes>"
      ]
     },
     "metadata": {
      "needs_background": "light"
     },
     "output_type": "display_data"
    }
   ],
   "source": [
    "#Scatterplot\n",
    "plt.scatter(x =listing['price'], y = listing['number_of_reviews'])\n",
    "plt.xlabel('price')\n",
    "plt.ylabel('number of review')\n",
    "plt.show()"
   ]
  },
  {
   "cell_type": "code",
   "execution_count": 105,
   "metadata": {},
   "outputs": [
    {
     "data": {
      "image/png": "[encoded data removed]",
      "text/plain": [
       "<Figure size 432x288 with 1 Axes>"
      ]
     },
     "metadata": {
      "needs_background": "light"
     },
     "output_type": "display_data"
    }
   ],
   "source": [
    "#Scatterplot with limited x axis\n",
    "plt.scatter(x =listing['price'], y = listing['number_of_reviews'])\n",
    "plt.xlabel('price')\n",
    "plt.ylabel('number of review')\n",
    "plt.xlim(0,1100)\n",
    "plt.show()"
   ]
  },
  {
   "cell_type": "code",
   "execution_count": 106,
   "metadata": {},
   "outputs": [
    {
     "data": {
      "image/png": "[encoded data removed]",
      "text/plain": [
       "<Figure size 432x288 with 1 Axes>"
      ]
     },
     "metadata": {
      "needs_background": "light"
     },
     "output_type": "display_data"
    }
   ],
   "source": [
    "#Scatterplot with small size of dots\n",
    "plt.scatter(x =listing['price'], y = listing['number_of_reviews'], s = 5)\n",
    "plt.xlabel('price')\n",
    "plt.ylabel('number of review')\n",
    "plt.xlim(0,1100)\n",
    "plt.show()"
   ]
  },
  {
   "cell_type": "markdown",
   "metadata": {},
   "source": [
    "We have more reviews for price range between 50 to 250. "
   ]
  }
 ],
 "metadata": {
  "kernelspec": {
   "display_name": "Python 3",
   "language": "python",
   "name": "python3"
  },
  "language_info": {
   "codemirror_mode": {
    "name": "ipython",
    "version": 3
   },
   "file_extension": ".py",
   "mimetype": "text/x-python",
   "name": "python",
   "nbconvert_exporter": "python",
   "pygments_lexer": "ipython3",
   "version": "3.7.6"
  }
 },
 "nbformat": 4,
 "nbformat_minor": 4
}
